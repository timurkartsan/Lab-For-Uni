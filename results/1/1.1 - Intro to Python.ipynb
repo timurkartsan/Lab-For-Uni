{
 "cells": [
  {
   "cell_type": "markdown",
   "metadata": {},
   "source": [
    "## Basics of Python: Data Types\n",
    "Python is an interpreted high-level general-purpose programming language. Its design philosophy emphasizes code readability with its use of significant indentation. Python is dynamically-typed and garbage-collected. It supports multiple programming paradigms, including object-oriented and functional programming (https://en.wikipedia.org/wiki/Python).\n",
    "\n",
    "(this is not a overview of Python in general, this notebook is just about some elementary concepts)\n",
    "### Numbers"
   ]
  },
  {
   "cell_type": "code",
   "execution_count": 1,
   "metadata": {
    "execution": {
     "iopub.execute_input": "2025-09-22T14:50:29.248032Z",
     "iopub.status.busy": "2025-09-22T14:50:29.247831Z",
     "iopub.status.idle": "2025-09-22T14:50:29.256913Z",
     "shell.execute_reply": "2025-09-22T14:50:29.255604Z"
    }
   },
   "outputs": [
    {
     "name": "stdout",
     "output_type": "stream",
     "text": [
      "3\n",
      "2\n",
      "0.5\n"
     ]
    }
   ],
   "source": [
    "a = 1 # variables created when assigned\n",
    "b = 2\n",
    "print(a + b)\n",
    "print(a * b)\n",
    "print(a ** b - a / b)"
   ]
  },
  {
   "cell_type": "markdown",
   "metadata": {},
   "source": [
    "### Lists\n",
    "Lists are useed to store multiple items in a single variable. "
   ]
  },
  {
   "cell_type": "code",
   "execution_count": 2,
   "metadata": {
    "execution": {
     "iopub.execute_input": "2025-09-22T14:50:29.462218Z",
     "iopub.status.busy": "2025-09-22T14:50:29.461978Z",
     "iopub.status.idle": "2025-09-22T14:50:29.467507Z",
     "shell.execute_reply": "2025-09-22T14:50:29.466682Z"
    }
   },
   "outputs": [
    {
     "data": {
      "text/plain": [
       "[1, 2, 3]"
      ]
     },
     "execution_count": 2,
     "metadata": {},
     "output_type": "execute_result"
    }
   ],
   "source": [
    "a = [1, 2, 3]\n",
    "a"
   ]
  },
  {
   "cell_type": "code",
   "execution_count": 3,
   "metadata": {
    "execution": {
     "iopub.execute_input": "2025-09-22T14:50:29.469584Z",
     "iopub.status.busy": "2025-09-22T14:50:29.469409Z",
     "iopub.status.idle": "2025-09-22T14:50:29.472410Z",
     "shell.execute_reply": "2025-09-22T14:50:29.471729Z"
    }
   },
   "outputs": [],
   "source": [
    "a.append('Hello!')"
   ]
  },
  {
   "cell_type": "code",
   "execution_count": 4,
   "metadata": {
    "execution": {
     "iopub.execute_input": "2025-09-22T14:50:29.474819Z",
     "iopub.status.busy": "2025-09-22T14:50:29.474323Z",
     "iopub.status.idle": "2025-09-22T14:50:29.481134Z",
     "shell.execute_reply": "2025-09-22T14:50:29.480486Z"
    }
   },
   "outputs": [
    {
     "data": {
      "text/plain": [
       "[1, 2, 3, 'Hello!']"
      ]
     },
     "execution_count": 4,
     "metadata": {},
     "output_type": "execute_result"
    }
   ],
   "source": [
    "a"
   ]
  },
  {
   "cell_type": "code",
   "execution_count": 5,
   "metadata": {
    "execution": {
     "iopub.execute_input": "2025-09-22T14:50:29.482932Z",
     "iopub.status.busy": "2025-09-22T14:50:29.482788Z",
     "iopub.status.idle": "2025-09-22T14:50:29.486443Z",
     "shell.execute_reply": "2025-09-22T14:50:29.485767Z"
    }
   },
   "outputs": [
    {
     "name": "stdout",
     "output_type": "stream",
     "text": [
      "0 1\n",
      "1 2\n",
      "2 3\n",
      "3 Hello!\n"
     ]
    }
   ],
   "source": [
    "for i in range(len(a)): # range(len(a)) creates a sequence of numbers from 0 to len(a)\n",
    "    print(i, a[i])"
   ]
  },
  {
   "cell_type": "code",
   "execution_count": 6,
   "metadata": {
    "execution": {
     "iopub.execute_input": "2025-09-22T14:50:29.488360Z",
     "iopub.status.busy": "2025-09-22T14:50:29.488213Z",
     "iopub.status.idle": "2025-09-22T14:50:29.492913Z",
     "shell.execute_reply": "2025-09-22T14:50:29.491295Z"
    }
   },
   "outputs": [
    {
     "name": "stdout",
     "output_type": "stream",
     "text": [
      "<class 'int'>\n",
      "<class 'str'>\n"
     ]
    }
   ],
   "source": [
    "print(type(a[0]))\n",
    "print(type(a[-1])) # last element"
   ]
  },
  {
   "cell_type": "code",
   "execution_count": 7,
   "metadata": {
    "execution": {
     "iopub.execute_input": "2025-09-22T14:50:29.495043Z",
     "iopub.status.busy": "2025-09-22T14:50:29.494875Z",
     "iopub.status.idle": "2025-09-22T14:50:29.499054Z",
     "shell.execute_reply": "2025-09-22T14:50:29.498168Z"
    }
   },
   "outputs": [
    {
     "data": {
      "text/plain": [
       "[2, 3, 'Hello!']"
      ]
     },
     "execution_count": 7,
     "metadata": {},
     "output_type": "execute_result"
    }
   ],
   "source": [
    "a[1:]"
   ]
  },
  {
   "cell_type": "code",
   "execution_count": 8,
   "metadata": {
    "execution": {
     "iopub.execute_input": "2025-09-22T14:50:29.500995Z",
     "iopub.status.busy": "2025-09-22T14:50:29.500851Z",
     "iopub.status.idle": "2025-09-22T14:50:29.504722Z",
     "shell.execute_reply": "2025-09-22T14:50:29.503982Z"
    }
   },
   "outputs": [
    {
     "data": {
      "text/plain": [
       "[1, 2]"
      ]
     },
     "execution_count": 8,
     "metadata": {},
     "output_type": "execute_result"
    }
   ],
   "source": [
    "a[:-2]"
   ]
  },
  {
   "cell_type": "code",
   "execution_count": 9,
   "metadata": {
    "execution": {
     "iopub.execute_input": "2025-09-22T14:50:29.508704Z",
     "iopub.status.busy": "2025-09-22T14:50:29.508385Z",
     "iopub.status.idle": "2025-09-22T14:50:29.512072Z",
     "shell.execute_reply": "2025-09-22T14:50:29.511419Z"
    }
   },
   "outputs": [
    {
     "name": "stdout",
     "output_type": "stream",
     "text": [
      "[['u', 0, 3], 2, 3, 'Hello!']\n",
      "u\n"
     ]
    }
   ],
   "source": [
    "a[0] = ['u', 0, 3]\n",
    "print(a)\n",
    "print(a[0][0])"
   ]
  },
  {
   "cell_type": "code",
   "execution_count": 10,
   "metadata": {
    "execution": {
     "iopub.execute_input": "2025-09-22T14:50:29.514109Z",
     "iopub.status.busy": "2025-09-22T14:50:29.513943Z",
     "iopub.status.idle": "2025-09-22T14:50:29.517033Z",
     "shell.execute_reply": "2025-09-22T14:50:29.516415Z"
    }
   },
   "outputs": [],
   "source": [
    "new_list = [i**2 for i in range(5)] # list comprehensions"
   ]
  },
  {
   "cell_type": "code",
   "execution_count": 11,
   "metadata": {
    "execution": {
     "iopub.execute_input": "2025-09-22T14:50:29.518870Z",
     "iopub.status.busy": "2025-09-22T14:50:29.518684Z",
     "iopub.status.idle": "2025-09-22T14:50:29.525010Z",
     "shell.execute_reply": "2025-09-22T14:50:29.522181Z"
    }
   },
   "outputs": [
    {
     "data": {
      "text/plain": [
       "[0, 1, 4, 9, 16]"
      ]
     },
     "execution_count": 11,
     "metadata": {},
     "output_type": "execute_result"
    }
   ],
   "source": [
    "new_list"
   ]
  },
  {
   "cell_type": "code",
   "execution_count": 12,
   "metadata": {
    "execution": {
     "iopub.execute_input": "2025-09-22T14:50:29.527566Z",
     "iopub.status.busy": "2025-09-22T14:50:29.527355Z",
     "iopub.status.idle": "2025-09-22T14:50:29.530208Z",
     "shell.execute_reply": "2025-09-22T14:50:29.529596Z"
    }
   },
   "outputs": [],
   "source": [
    "a1 = [1, 2, 3]\n",
    "a2 = ['1', '2', '3']"
   ]
  },
  {
   "cell_type": "code",
   "execution_count": 13,
   "metadata": {
    "execution": {
     "iopub.execute_input": "2025-09-22T14:50:29.532030Z",
     "iopub.status.busy": "2025-09-22T14:50:29.531853Z",
     "iopub.status.idle": "2025-09-22T14:50:29.535824Z",
     "shell.execute_reply": "2025-09-22T14:50:29.535213Z"
    }
   },
   "outputs": [
    {
     "data": {
      "text/plain": [
       "[1, 2, 3, '1', '2', '3']"
      ]
     },
     "execution_count": 13,
     "metadata": {},
     "output_type": "execute_result"
    }
   ],
   "source": [
    "a1 + a2 # concatenation"
   ]
  },
  {
   "cell_type": "code",
   "execution_count": 14,
   "metadata": {
    "execution": {
     "iopub.execute_input": "2025-09-22T14:50:29.539847Z",
     "iopub.status.busy": "2025-09-22T14:50:29.539286Z",
     "iopub.status.idle": "2025-09-22T14:50:29.542663Z",
     "shell.execute_reply": "2025-09-22T14:50:29.541867Z"
    }
   },
   "outputs": [],
   "source": [
    "matrix = [[1, 2, 3], [4, 5, 6]]"
   ]
  },
  {
   "cell_type": "code",
   "execution_count": 15,
   "metadata": {
    "execution": {
     "iopub.execute_input": "2025-09-22T14:50:29.544618Z",
     "iopub.status.busy": "2025-09-22T14:50:29.544469Z",
     "iopub.status.idle": "2025-09-22T14:50:29.548640Z",
     "shell.execute_reply": "2025-09-22T14:50:29.547777Z"
    }
   },
   "outputs": [
    {
     "data": {
      "text/plain": [
       "[[1, 2, 3], [4, 5, 6]]"
      ]
     },
     "execution_count": 15,
     "metadata": {},
     "output_type": "execute_result"
    }
   ],
   "source": [
    "matrix"
   ]
  },
  {
   "cell_type": "code",
   "execution_count": 16,
   "metadata": {
    "execution": {
     "iopub.execute_input": "2025-09-22T14:50:29.550947Z",
     "iopub.status.busy": "2025-09-22T14:50:29.550764Z",
     "iopub.status.idle": "2025-09-22T14:50:29.556071Z",
     "shell.execute_reply": "2025-09-22T14:50:29.554688Z"
    }
   },
   "outputs": [
    {
     "data": {
      "text/plain": [
       "2"
      ]
     },
     "execution_count": 16,
     "metadata": {},
     "output_type": "execute_result"
    }
   ],
   "source": [
    "len(matrix)"
   ]
  },
  {
   "cell_type": "code",
   "execution_count": 17,
   "metadata": {
    "execution": {
     "iopub.execute_input": "2025-09-22T14:50:29.558097Z",
     "iopub.status.busy": "2025-09-22T14:50:29.557950Z",
     "iopub.status.idle": "2025-09-22T14:50:29.561908Z",
     "shell.execute_reply": "2025-09-22T14:50:29.561215Z"
    }
   },
   "outputs": [
    {
     "data": {
      "text/plain": [
       "3"
      ]
     },
     "execution_count": 17,
     "metadata": {},
     "output_type": "execute_result"
    }
   ],
   "source": [
    "len(matrix[0])"
   ]
  },
  {
   "cell_type": "markdown",
   "metadata": {},
   "source": [
    "### Dictionaries\n",
    "Dictionary are used to store data values in key:value pairs."
   ]
  },
  {
   "cell_type": "code",
   "execution_count": 18,
   "metadata": {
    "execution": {
     "iopub.execute_input": "2025-09-22T14:50:29.563849Z",
     "iopub.status.busy": "2025-09-22T14:50:29.563705Z",
     "iopub.status.idle": "2025-09-22T14:50:29.566634Z",
     "shell.execute_reply": "2025-09-22T14:50:29.566017Z"
    }
   },
   "outputs": [
    {
     "name": "stdout",
     "output_type": "stream",
     "text": [
      "{'key_1': 'value_1', 'key_2': 'value_2'}\n"
     ]
    }
   ],
   "source": [
    "d = {'key_1': 'value_1', 'key_2': 'value_2'}\n",
    "print(d)"
   ]
  },
  {
   "cell_type": "code",
   "execution_count": 19,
   "metadata": {
    "execution": {
     "iopub.execute_input": "2025-09-22T14:50:29.568550Z",
     "iopub.status.busy": "2025-09-22T14:50:29.568347Z",
     "iopub.status.idle": "2025-09-22T14:50:29.575330Z",
     "shell.execute_reply": "2025-09-22T14:50:29.574344Z"
    }
   },
   "outputs": [
    {
     "data": {
      "text/plain": [
       "'value_1'"
      ]
     },
     "execution_count": 19,
     "metadata": {},
     "output_type": "execute_result"
    }
   ],
   "source": [
    "d['key_1']"
   ]
  },
  {
   "cell_type": "code",
   "execution_count": 20,
   "metadata": {
    "execution": {
     "iopub.execute_input": "2025-09-22T14:50:29.577243Z",
     "iopub.status.busy": "2025-09-22T14:50:29.577097Z",
     "iopub.status.idle": "2025-09-22T14:50:29.580937Z",
     "shell.execute_reply": "2025-09-22T14:50:29.580319Z"
    }
   },
   "outputs": [
    {
     "data": {
      "text/plain": [
       "dict_keys(['key_1', 'key_2'])"
      ]
     },
     "execution_count": 20,
     "metadata": {},
     "output_type": "execute_result"
    }
   ],
   "source": [
    "d.keys()"
   ]
  },
  {
   "cell_type": "markdown",
   "metadata": {},
   "source": [
    "## Basics of Python: Functions\n",
    "a function is defined using the def keyword."
   ]
  },
  {
   "cell_type": "code",
   "execution_count": 21,
   "metadata": {
    "execution": {
     "iopub.execute_input": "2025-09-22T14:50:29.583069Z",
     "iopub.status.busy": "2025-09-22T14:50:29.582916Z",
     "iopub.status.idle": "2025-09-22T14:50:29.589448Z",
     "shell.execute_reply": "2025-09-22T14:50:29.588590Z"
    }
   },
   "outputs": [],
   "source": [
    "def hello_function():\n",
    "    print(\"Hello!\")"
   ]
  },
  {
   "cell_type": "code",
   "execution_count": 22,
   "metadata": {
    "execution": {
     "iopub.execute_input": "2025-09-22T14:50:29.591455Z",
     "iopub.status.busy": "2025-09-22T14:50:29.591244Z",
     "iopub.status.idle": "2025-09-22T14:50:29.594329Z",
     "shell.execute_reply": "2025-09-22T14:50:29.593632Z"
    }
   },
   "outputs": [],
   "source": [
    "def my_function(x, y):\n",
    "    return x**3, x + y"
   ]
  },
  {
   "cell_type": "code",
   "execution_count": 23,
   "metadata": {
    "execution": {
     "iopub.execute_input": "2025-09-22T14:50:29.596306Z",
     "iopub.status.busy": "2025-09-22T14:50:29.596160Z",
     "iopub.status.idle": "2025-09-22T14:50:29.598917Z",
     "shell.execute_reply": "2025-09-22T14:50:29.598281Z"
    }
   },
   "outputs": [
    {
     "name": "stdout",
     "output_type": "stream",
     "text": [
      "Hello!\n"
     ]
    }
   ],
   "source": [
    "hello_function()"
   ]
  },
  {
   "cell_type": "code",
   "execution_count": 24,
   "metadata": {
    "execution": {
     "iopub.execute_input": "2025-09-22T14:50:29.603228Z",
     "iopub.status.busy": "2025-09-22T14:50:29.602983Z",
     "iopub.status.idle": "2025-09-22T14:50:29.606850Z",
     "shell.execute_reply": "2025-09-22T14:50:29.606224Z"
    }
   },
   "outputs": [
    {
     "data": {
      "text/plain": [
       "(64, 5)"
      ]
     },
     "execution_count": 24,
     "metadata": {},
     "output_type": "execute_result"
    }
   ],
   "source": [
    "my_function(4, 1)"
   ]
  },
  {
   "cell_type": "code",
   "execution_count": null,
   "metadata": {},
   "outputs": [],
   "source": []
  },
  {
   "cell_type": "code",
   "execution_count": null,
   "metadata": {},
   "outputs": [],
   "source": []
  }
 ],
 "metadata": {
  "kernelspec": {
   "display_name": "Python 3 (ipykernel)",
   "language": "python",
   "name": "python3"
  },
  "language_info": {
   "codemirror_mode": {
    "name": "ipython",
    "version": 3
   },
   "file_extension": ".py",
   "mimetype": "text/x-python",
   "name": "python",
   "nbconvert_exporter": "python",
   "pygments_lexer": "ipython3",
   "version": "3.13.7"
  }
 },
 "nbformat": 4,
 "nbformat_minor": 4
}
