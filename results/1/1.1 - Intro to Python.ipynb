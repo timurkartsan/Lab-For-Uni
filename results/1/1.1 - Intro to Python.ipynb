{
 "cells": [
  {
   "cell_type": "markdown",
   "metadata": {},
   "source": [
    "## Basics of Python: Data Types\n",
    "Python is an interpreted high-level general-purpose programming language. Its design philosophy emphasizes code readability with its use of significant indentation. Python is dynamically-typed and garbage-collected. It supports multiple programming paradigms, including object-oriented and functional programming (https://en.wikipedia.org/wiki/Python).\n",
    "\n",
    "(this is not a overview of Python in general, this notebook is just about some elementary concepts)\n",
    "### Numbers"
   ]
  },
  {
   "cell_type": "code",
   "execution_count": 1,
   "metadata": {
    "execution": {
     "iopub.execute_input": "2025-09-27T21:27:41.470785Z",
     "iopub.status.busy": "2025-09-27T21:27:41.470446Z",
     "iopub.status.idle": "2025-09-27T21:27:41.477266Z",
     "shell.execute_reply": "2025-09-27T21:27:41.475445Z"
    }
   },
   "outputs": [
    {
     "name": "stdout",
     "output_type": "stream",
     "text": [
      "3\n",
      "2\n",
      "0.5\n"
     ]
    }
   ],
   "source": [
    "a = 1 # variables created when assigned\n",
    "b = 2\n",
    "print(a + b)\n",
    "print(a * b)\n",
    "print(a ** b - a / b)"
   ]
  },
  {
   "cell_type": "markdown",
   "metadata": {},
   "source": [
    "### Lists\n",
    "Lists are useed to store multiple items in a single variable. "
   ]
  },
  {
   "cell_type": "code",
   "execution_count": 2,
   "metadata": {
    "execution": {
     "iopub.execute_input": "2025-09-27T21:27:41.512498Z",
     "iopub.status.busy": "2025-09-27T21:27:41.512233Z",
     "iopub.status.idle": "2025-09-27T21:27:41.520282Z",
     "shell.execute_reply": "2025-09-27T21:27:41.519647Z"
    }
   },
   "outputs": [
    {
     "data": {
      "text/plain": [
       "[1, 2, 3]"
      ]
     },
     "execution_count": 2,
     "metadata": {},
     "output_type": "execute_result"
    }
   ],
   "source": [
    "a = [1, 2, 3]\n",
    "a"
   ]
  },
  {
   "cell_type": "code",
   "execution_count": 3,
   "metadata": {
    "execution": {
     "iopub.execute_input": "2025-09-27T21:27:41.522508Z",
     "iopub.status.busy": "2025-09-27T21:27:41.522337Z",
     "iopub.status.idle": "2025-09-27T21:27:41.527796Z",
     "shell.execute_reply": "2025-09-27T21:27:41.525403Z"
    }
   },
   "outputs": [],
   "source": [
    "a.append('Hello!')"
   ]
  },
  {
   "cell_type": "code",
   "execution_count": 4,
   "metadata": {
    "execution": {
     "iopub.execute_input": "2025-09-27T21:27:41.530347Z",
     "iopub.status.busy": "2025-09-27T21:27:41.530157Z",
     "iopub.status.idle": "2025-09-27T21:27:41.534542Z",
     "shell.execute_reply": "2025-09-27T21:27:41.533760Z"
    }
   },
   "outputs": [
    {
     "data": {
      "text/plain": [
       "[1, 2, 3, 'Hello!']"
      ]
     },
     "execution_count": 4,
     "metadata": {},
     "output_type": "execute_result"
    }
   ],
   "source": [
    "a"
   ]
  },
  {
   "cell_type": "code",
   "execution_count": 5,
   "metadata": {
    "execution": {
     "iopub.execute_input": "2025-09-27T21:27:41.537134Z",
     "iopub.status.busy": "2025-09-27T21:27:41.536948Z",
     "iopub.status.idle": "2025-09-27T21:27:41.540840Z",
     "shell.execute_reply": "2025-09-27T21:27:41.540257Z"
    }
   },
   "outputs": [
    {
     "name": "stdout",
     "output_type": "stream",
     "text": [
      "0 1\n",
      "1 2\n",
      "2 3\n",
      "3 Hello!\n"
     ]
    }
   ],
   "source": [
    "for i in range(len(a)): # range(len(a)) creates a sequence of numbers from 0 to len(a)\n",
    "    print(i, a[i])"
   ]
  },
  {
   "cell_type": "code",
   "execution_count": 6,
   "metadata": {
    "execution": {
     "iopub.execute_input": "2025-09-27T21:27:41.544891Z",
     "iopub.status.busy": "2025-09-27T21:27:41.544606Z",
     "iopub.status.idle": "2025-09-27T21:27:41.547643Z",
     "shell.execute_reply": "2025-09-27T21:27:41.547266Z"
    }
   },
   "outputs": [
    {
     "name": "stdout",
     "output_type": "stream",
     "text": [
      "<class 'int'>\n",
      "<class 'str'>\n"
     ]
    }
   ],
   "source": [
    "print(type(a[0]))\n",
    "print(type(a[-1])) # last element"
   ]
  },
  {
   "cell_type": "code",
   "execution_count": 7,
   "metadata": {
    "execution": {
     "iopub.execute_input": "2025-09-27T21:27:41.549665Z",
     "iopub.status.busy": "2025-09-27T21:27:41.549494Z",
     "iopub.status.idle": "2025-09-27T21:27:41.553289Z",
     "shell.execute_reply": "2025-09-27T21:27:41.552854Z"
    }
   },
   "outputs": [
    {
     "data": {
      "text/plain": [
       "[2, 3, 'Hello!']"
      ]
     },
     "execution_count": 7,
     "metadata": {},
     "output_type": "execute_result"
    }
   ],
   "source": [
    "a[1:]"
   ]
  },
  {
   "cell_type": "code",
   "execution_count": 8,
   "metadata": {
    "execution": {
     "iopub.execute_input": "2025-09-27T21:27:41.555227Z",
     "iopub.status.busy": "2025-09-27T21:27:41.555060Z",
     "iopub.status.idle": "2025-09-27T21:27:41.559629Z",
     "shell.execute_reply": "2025-09-27T21:27:41.558594Z"
    }
   },
   "outputs": [
    {
     "data": {
      "text/plain": [
       "[1, 2]"
      ]
     },
     "execution_count": 8,
     "metadata": {},
     "output_type": "execute_result"
    }
   ],
   "source": [
    "a[:-2]"
   ]
  },
  {
   "cell_type": "code",
   "execution_count": 9,
   "metadata": {
    "execution": {
     "iopub.execute_input": "2025-09-27T21:27:41.562496Z",
     "iopub.status.busy": "2025-09-27T21:27:41.562294Z",
     "iopub.status.idle": "2025-09-27T21:27:41.565422Z",
     "shell.execute_reply": "2025-09-27T21:27:41.565038Z"
    }
   },
   "outputs": [
    {
     "name": "stdout",
     "output_type": "stream",
     "text": [
      "[['u', 0, 3], 2, 3, 'Hello!']\n",
      "u\n"
     ]
    }
   ],
   "source": [
    "a[0] = ['u', 0, 3]\n",
    "print(a)\n",
    "print(a[0][0])"
   ]
  },
  {
   "cell_type": "code",
   "execution_count": 10,
   "metadata": {
    "execution": {
     "iopub.execute_input": "2025-09-27T21:27:41.567129Z",
     "iopub.status.busy": "2025-09-27T21:27:41.566963Z",
     "iopub.status.idle": "2025-09-27T21:27:41.570127Z",
     "shell.execute_reply": "2025-09-27T21:27:41.569722Z"
    }
   },
   "outputs": [],
   "source": [
    "new_list = [i**2 for i in range(5)] # list comprehensions"
   ]
  },
  {
   "cell_type": "code",
   "execution_count": 11,
   "metadata": {
    "execution": {
     "iopub.execute_input": "2025-09-27T21:27:41.572677Z",
     "iopub.status.busy": "2025-09-27T21:27:41.572253Z",
     "iopub.status.idle": "2025-09-27T21:27:41.577423Z",
     "shell.execute_reply": "2025-09-27T21:27:41.576577Z"
    }
   },
   "outputs": [
    {
     "data": {
      "text/plain": [
       "[0, 1, 4, 9, 16]"
      ]
     },
     "execution_count": 11,
     "metadata": {},
     "output_type": "execute_result"
    }
   ],
   "source": [
    "new_list"
   ]
  },
  {
   "cell_type": "code",
   "execution_count": 12,
   "metadata": {
    "execution": {
     "iopub.execute_input": "2025-09-27T21:27:41.579699Z",
     "iopub.status.busy": "2025-09-27T21:27:41.579502Z",
     "iopub.status.idle": "2025-09-27T21:27:41.582298Z",
     "shell.execute_reply": "2025-09-27T21:27:41.581853Z"
    }
   },
   "outputs": [],
   "source": [
    "a1 = [1, 2, 3]\n",
    "a2 = ['1', '2', '3']"
   ]
  },
  {
   "cell_type": "code",
   "execution_count": 13,
   "metadata": {
    "execution": {
     "iopub.execute_input": "2025-09-27T21:27:41.584294Z",
     "iopub.status.busy": "2025-09-27T21:27:41.584032Z",
     "iopub.status.idle": "2025-09-27T21:27:41.589228Z",
     "shell.execute_reply": "2025-09-27T21:27:41.588097Z"
    }
   },
   "outputs": [
    {
     "data": {
      "text/plain": [
       "[1, 2, 3, '1', '2', '3']"
      ]
     },
     "execution_count": 13,
     "metadata": {},
     "output_type": "execute_result"
    }
   ],
   "source": [
    "a1 + a2 # concatenation"
   ]
  },
  {
   "cell_type": "code",
   "execution_count": 14,
   "metadata": {
    "execution": {
     "iopub.execute_input": "2025-09-27T21:27:41.592835Z",
     "iopub.status.busy": "2025-09-27T21:27:41.592166Z",
     "iopub.status.idle": "2025-09-27T21:27:41.597691Z",
     "shell.execute_reply": "2025-09-27T21:27:41.596995Z"
    }
   },
   "outputs": [],
   "source": [
    "matrix = [[1, 2, 3], [4, 5, 6]]"
   ]
  },
  {
   "cell_type": "code",
   "execution_count": 15,
   "metadata": {
    "execution": {
     "iopub.execute_input": "2025-09-27T21:27:41.599820Z",
     "iopub.status.busy": "2025-09-27T21:27:41.599640Z",
     "iopub.status.idle": "2025-09-27T21:27:41.604514Z",
     "shell.execute_reply": "2025-09-27T21:27:41.603617Z"
    }
   },
   "outputs": [
    {
     "data": {
      "text/plain": [
       "[[1, 2, 3], [4, 5, 6]]"
      ]
     },
     "execution_count": 15,
     "metadata": {},
     "output_type": "execute_result"
    }
   ],
   "source": [
    "matrix"
   ]
  },
  {
   "cell_type": "code",
   "execution_count": 16,
   "metadata": {
    "execution": {
     "iopub.execute_input": "2025-09-27T21:27:41.606875Z",
     "iopub.status.busy": "2025-09-27T21:27:41.606606Z",
     "iopub.status.idle": "2025-09-27T21:27:41.611376Z",
     "shell.execute_reply": "2025-09-27T21:27:41.610432Z"
    }
   },
   "outputs": [
    {
     "data": {
      "text/plain": [
       "2"
      ]
     },
     "execution_count": 16,
     "metadata": {},
     "output_type": "execute_result"
    }
   ],
   "source": [
    "len(matrix)"
   ]
  },
  {
   "cell_type": "code",
   "execution_count": 17,
   "metadata": {
    "execution": {
     "iopub.execute_input": "2025-09-27T21:27:41.613540Z",
     "iopub.status.busy": "2025-09-27T21:27:41.613356Z",
     "iopub.status.idle": "2025-09-27T21:27:41.616888Z",
     "shell.execute_reply": "2025-09-27T21:27:41.616446Z"
    }
   },
   "outputs": [
    {
     "data": {
      "text/plain": [
       "3"
      ]
     },
     "execution_count": 17,
     "metadata": {},
     "output_type": "execute_result"
    }
   ],
   "source": [
    "len(matrix[0])"
   ]
  },
  {
   "cell_type": "markdown",
   "metadata": {},
   "source": [
    "### Dictionaries\n",
    "Dictionary are used to store data values in key:value pairs."
   ]
  },
  {
   "cell_type": "code",
   "execution_count": 18,
   "metadata": {
    "execution": {
     "iopub.execute_input": "2025-09-27T21:27:41.618962Z",
     "iopub.status.busy": "2025-09-27T21:27:41.618752Z",
     "iopub.status.idle": "2025-09-27T21:27:41.622670Z",
     "shell.execute_reply": "2025-09-27T21:27:41.622117Z"
    }
   },
   "outputs": [
    {
     "name": "stdout",
     "output_type": "stream",
     "text": [
      "{'key_1': 'value_1', 'key_2': 'value_2'}\n"
     ]
    }
   ],
   "source": [
    "d = {'key_1': 'value_1', 'key_2': 'value_2'}\n",
    "print(d)"
   ]
  },
  {
   "cell_type": "code",
   "execution_count": 19,
   "metadata": {
    "execution": {
     "iopub.execute_input": "2025-09-27T21:27:41.625471Z",
     "iopub.status.busy": "2025-09-27T21:27:41.625212Z",
     "iopub.status.idle": "2025-09-27T21:27:41.629122Z",
     "shell.execute_reply": "2025-09-27T21:27:41.628679Z"
    }
   },
   "outputs": [
    {
     "data": {
      "text/plain": [
       "'value_1'"
      ]
     },
     "execution_count": 19,
     "metadata": {},
     "output_type": "execute_result"
    }
   ],
   "source": [
    "d['key_1']"
   ]
  },
  {
   "cell_type": "code",
   "execution_count": 20,
   "metadata": {
    "execution": {
     "iopub.execute_input": "2025-09-27T21:27:41.631016Z",
     "iopub.status.busy": "2025-09-27T21:27:41.630839Z",
     "iopub.status.idle": "2025-09-27T21:27:41.633959Z",
     "shell.execute_reply": "2025-09-27T21:27:41.633541Z"
    }
   },
   "outputs": [
    {
     "data": {
      "text/plain": [
       "dict_keys(['key_1', 'key_2'])"
      ]
     },
     "execution_count": 20,
     "metadata": {},
     "output_type": "execute_result"
    }
   ],
   "source": [
    "d.keys()"
   ]
  },
  {
   "cell_type": "markdown",
   "metadata": {},
   "source": [
    "## Basics of Python: Functions\n",
    "a function is defined using the def keyword."
   ]
  },
  {
   "cell_type": "code",
   "execution_count": 21,
   "metadata": {
    "execution": {
     "iopub.execute_input": "2025-09-27T21:27:41.637014Z",
     "iopub.status.busy": "2025-09-27T21:27:41.636811Z",
     "iopub.status.idle": "2025-09-27T21:27:41.639956Z",
     "shell.execute_reply": "2025-09-27T21:27:41.639523Z"
    }
   },
   "outputs": [],
   "source": [
    "def hello_function():\n",
    "    print(\"Hello!\")"
   ]
  },
  {
   "cell_type": "code",
   "execution_count": 22,
   "metadata": {
    "execution": {
     "iopub.execute_input": "2025-09-27T21:27:41.641848Z",
     "iopub.status.busy": "2025-09-27T21:27:41.641677Z",
     "iopub.status.idle": "2025-09-27T21:27:41.644894Z",
     "shell.execute_reply": "2025-09-27T21:27:41.644491Z"
    }
   },
   "outputs": [],
   "source": [
    "def my_function(x, y):\n",
    "    return x**3, x + y"
   ]
  },
  {
   "cell_type": "code",
   "execution_count": 23,
   "metadata": {
    "execution": {
     "iopub.execute_input": "2025-09-27T21:27:41.646863Z",
     "iopub.status.busy": "2025-09-27T21:27:41.646702Z",
     "iopub.status.idle": "2025-09-27T21:27:41.649596Z",
     "shell.execute_reply": "2025-09-27T21:27:41.649146Z"
    }
   },
   "outputs": [
    {
     "name": "stdout",
     "output_type": "stream",
     "text": [
      "Hello!\n"
     ]
    }
   ],
   "source": [
    "hello_function()"
   ]
  },
  {
   "cell_type": "code",
   "execution_count": 24,
   "metadata": {
    "execution": {
     "iopub.execute_input": "2025-09-27T21:27:41.651966Z",
     "iopub.status.busy": "2025-09-27T21:27:41.651576Z",
     "iopub.status.idle": "2025-09-27T21:27:41.655437Z",
     "shell.execute_reply": "2025-09-27T21:27:41.655008Z"
    }
   },
   "outputs": [
    {
     "data": {
      "text/plain": [
       "(64, 5)"
      ]
     },
     "execution_count": 24,
     "metadata": {},
     "output_type": "execute_result"
    }
   ],
   "source": [
    "my_function(4, 1)"
   ]
  },
  {
   "cell_type": "code",
   "execution_count": null,
   "metadata": {},
   "outputs": [],
   "source": []
  },
  {
   "cell_type": "code",
   "execution_count": null,
   "metadata": {},
   "outputs": [],
   "source": []
  }
 ],
 "metadata": {
  "kernelspec": {
   "display_name": "Python 3 (ipykernel)",
   "language": "python",
   "name": "python3"
  },
  "language_info": {
   "codemirror_mode": {
    "name": "ipython",
    "version": 3
   },
   "file_extension": ".py",
   "mimetype": "text/x-python",
   "name": "python",
   "nbconvert_exporter": "python",
   "pygments_lexer": "ipython3",
   "version": "3.13.7"
  }
 },
 "nbformat": 4,
 "nbformat_minor": 4
}
