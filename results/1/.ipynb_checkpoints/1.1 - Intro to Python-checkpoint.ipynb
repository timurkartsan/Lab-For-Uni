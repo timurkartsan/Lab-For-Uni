{
 "cells": [
  {
   "cell_type": "markdown",
   "metadata": {},
   "source": [
    "## Basics of Python: Data Types\n",
    "Python is an interpreted high-level general-purpose programming language. Its design philosophy emphasizes code readability with its use of significant indentation. Python is dynamically-typed and garbage-collected. It supports multiple programming paradigms, including object-oriented and functional programming (https://en.wikipedia.org/wiki/Python).\n",
    "\n",
    "(this is not a overview of Python in general, this notebook is just about some elementary concepts)\n",
    "### Numbers"
   ]
  },
  {
   "cell_type": "code",
   "execution_count": 1,
   "metadata": {
    "execution": {
     "iopub.execute_input": "2025-09-22T14:50:50.649282Z",
     "iopub.status.busy": "2025-09-22T14:50:50.649072Z",
     "iopub.status.idle": "2025-09-22T14:50:50.653246Z",
     "shell.execute_reply": "2025-09-22T14:50:50.652403Z"
    }
   },
   "outputs": [
    {
     "name": "stdout",
     "output_type": "stream",
     "text": [
      "3\n",
      "2\n",
      "0.5\n"
     ]
    }
   ],
   "source": [
    "a = 1 # variables created when assigned\n",
    "b = 2\n",
    "print(a + b)\n",
    "print(a * b)\n",
    "print(a ** b - a / b)"
   ]
  },
  {
   "cell_type": "markdown",
   "metadata": {},
   "source": [
    "### Lists\n",
    "Lists are useed to store multiple items in a single variable. "
   ]
  },
  {
   "cell_type": "code",
   "execution_count": 2,
   "metadata": {
    "execution": {
     "iopub.execute_input": "2025-09-22T14:50:50.682943Z",
     "iopub.status.busy": "2025-09-22T14:50:50.682746Z",
     "iopub.status.idle": "2025-09-22T14:50:50.690654Z",
     "shell.execute_reply": "2025-09-22T14:50:50.689935Z"
    }
   },
   "outputs": [
    {
     "data": {
      "text/plain": [
       "[1, 2, 3]"
      ]
     },
     "execution_count": 2,
     "metadata": {},
     "output_type": "execute_result"
    }
   ],
   "source": [
    "a = [1, 2, 3]\n",
    "a"
   ]
  },
  {
   "cell_type": "code",
   "execution_count": 3,
   "metadata": {
    "execution": {
     "iopub.execute_input": "2025-09-22T14:50:50.692568Z",
     "iopub.status.busy": "2025-09-22T14:50:50.692418Z",
     "iopub.status.idle": "2025-09-22T14:50:50.695505Z",
     "shell.execute_reply": "2025-09-22T14:50:50.694627Z"
    }
   },
   "outputs": [],
   "source": [
    "a.append('Hello!')"
   ]
  },
  {
   "cell_type": "code",
   "execution_count": 4,
   "metadata": {
    "execution": {
     "iopub.execute_input": "2025-09-22T14:50:50.697606Z",
     "iopub.status.busy": "2025-09-22T14:50:50.697426Z",
     "iopub.status.idle": "2025-09-22T14:50:50.703292Z",
     "shell.execute_reply": "2025-09-22T14:50:50.700917Z"
    }
   },
   "outputs": [
    {
     "data": {
      "text/plain": [
       "[1, 2, 3, 'Hello!']"
      ]
     },
     "execution_count": 4,
     "metadata": {},
     "output_type": "execute_result"
    }
   ],
   "source": [
    "a"
   ]
  },
  {
   "cell_type": "code",
   "execution_count": 5,
   "metadata": {
    "execution": {
     "iopub.execute_input": "2025-09-22T14:50:50.705752Z",
     "iopub.status.busy": "2025-09-22T14:50:50.705587Z",
     "iopub.status.idle": "2025-09-22T14:50:50.708736Z",
     "shell.execute_reply": "2025-09-22T14:50:50.708178Z"
    }
   },
   "outputs": [
    {
     "name": "stdout",
     "output_type": "stream",
     "text": [
      "0 1\n",
      "1 2\n",
      "2 3\n",
      "3 Hello!\n"
     ]
    }
   ],
   "source": [
    "for i in range(len(a)): # range(len(a)) creates a sequence of numbers from 0 to len(a)\n",
    "    print(i, a[i])"
   ]
  },
  {
   "cell_type": "code",
   "execution_count": 6,
   "metadata": {
    "execution": {
     "iopub.execute_input": "2025-09-22T14:50:50.710649Z",
     "iopub.status.busy": "2025-09-22T14:50:50.710495Z",
     "iopub.status.idle": "2025-09-22T14:50:50.713613Z",
     "shell.execute_reply": "2025-09-22T14:50:50.712995Z"
    }
   },
   "outputs": [
    {
     "name": "stdout",
     "output_type": "stream",
     "text": [
      "<class 'int'>\n",
      "<class 'str'>\n"
     ]
    }
   ],
   "source": [
    "print(type(a[0]))\n",
    "print(type(a[-1])) # last element"
   ]
  },
  {
   "cell_type": "code",
   "execution_count": 7,
   "metadata": {
    "execution": {
     "iopub.execute_input": "2025-09-22T14:50:50.716022Z",
     "iopub.status.busy": "2025-09-22T14:50:50.715565Z",
     "iopub.status.idle": "2025-09-22T14:50:50.721439Z",
     "shell.execute_reply": "2025-09-22T14:50:50.720810Z"
    }
   },
   "outputs": [
    {
     "data": {
      "text/plain": [
       "[2, 3, 'Hello!']"
      ]
     },
     "execution_count": 7,
     "metadata": {},
     "output_type": "execute_result"
    }
   ],
   "source": [
    "a[1:]"
   ]
  },
  {
   "cell_type": "code",
   "execution_count": 8,
   "metadata": {
    "execution": {
     "iopub.execute_input": "2025-09-22T14:50:50.723364Z",
     "iopub.status.busy": "2025-09-22T14:50:50.723205Z",
     "iopub.status.idle": "2025-09-22T14:50:50.727256Z",
     "shell.execute_reply": "2025-09-22T14:50:50.726519Z"
    }
   },
   "outputs": [
    {
     "data": {
      "text/plain": [
       "[1, 2]"
      ]
     },
     "execution_count": 8,
     "metadata": {},
     "output_type": "execute_result"
    }
   ],
   "source": [
    "a[:-2]"
   ]
  },
  {
   "cell_type": "code",
   "execution_count": 9,
   "metadata": {
    "execution": {
     "iopub.execute_input": "2025-09-22T14:50:50.729261Z",
     "iopub.status.busy": "2025-09-22T14:50:50.729102Z",
     "iopub.status.idle": "2025-09-22T14:50:50.733196Z",
     "shell.execute_reply": "2025-09-22T14:50:50.732009Z"
    }
   },
   "outputs": [
    {
     "name": "stdout",
     "output_type": "stream",
     "text": [
      "[['u', 0, 3], 2, 3, 'Hello!']\n",
      "u\n"
     ]
    }
   ],
   "source": [
    "a[0] = ['u', 0, 3]\n",
    "print(a)\n",
    "print(a[0][0])"
   ]
  },
  {
   "cell_type": "code",
   "execution_count": 10,
   "metadata": {
    "execution": {
     "iopub.execute_input": "2025-09-22T14:50:50.737140Z",
     "iopub.status.busy": "2025-09-22T14:50:50.736882Z",
     "iopub.status.idle": "2025-09-22T14:50:50.740186Z",
     "shell.execute_reply": "2025-09-22T14:50:50.739445Z"
    }
   },
   "outputs": [],
   "source": [
    "new_list = [i**2 for i in range(5)] # list comprehensions"
   ]
  },
  {
   "cell_type": "code",
   "execution_count": 11,
   "metadata": {
    "execution": {
     "iopub.execute_input": "2025-09-22T14:50:50.742055Z",
     "iopub.status.busy": "2025-09-22T14:50:50.741892Z",
     "iopub.status.idle": "2025-09-22T14:50:50.745677Z",
     "shell.execute_reply": "2025-09-22T14:50:50.744926Z"
    }
   },
   "outputs": [
    {
     "data": {
      "text/plain": [
       "[0, 1, 4, 9, 16]"
      ]
     },
     "execution_count": 11,
     "metadata": {},
     "output_type": "execute_result"
    }
   ],
   "source": [
    "new_list"
   ]
  },
  {
   "cell_type": "code",
   "execution_count": 12,
   "metadata": {
    "execution": {
     "iopub.execute_input": "2025-09-22T14:50:50.749360Z",
     "iopub.status.busy": "2025-09-22T14:50:50.748651Z",
     "iopub.status.idle": "2025-09-22T14:50:50.753051Z",
     "shell.execute_reply": "2025-09-22T14:50:50.752264Z"
    }
   },
   "outputs": [],
   "source": [
    "a1 = [1, 2, 3]\n",
    "a2 = ['1', '2', '3']"
   ]
  },
  {
   "cell_type": "code",
   "execution_count": 13,
   "metadata": {
    "execution": {
     "iopub.execute_input": "2025-09-22T14:50:50.754986Z",
     "iopub.status.busy": "2025-09-22T14:50:50.754823Z",
     "iopub.status.idle": "2025-09-22T14:50:50.758595Z",
     "shell.execute_reply": "2025-09-22T14:50:50.757785Z"
    }
   },
   "outputs": [
    {
     "data": {
      "text/plain": [
       "[1, 2, 3, '1', '2', '3']"
      ]
     },
     "execution_count": 13,
     "metadata": {},
     "output_type": "execute_result"
    }
   ],
   "source": [
    "a1 + a2 # concatenation"
   ]
  },
  {
   "cell_type": "code",
   "execution_count": 14,
   "metadata": {
    "execution": {
     "iopub.execute_input": "2025-09-22T14:50:50.760528Z",
     "iopub.status.busy": "2025-09-22T14:50:50.760325Z",
     "iopub.status.idle": "2025-09-22T14:50:50.763396Z",
     "shell.execute_reply": "2025-09-22T14:50:50.762612Z"
    }
   },
   "outputs": [],
   "source": [
    "matrix = [[1, 2, 3], [4, 5, 6]]"
   ]
  },
  {
   "cell_type": "code",
   "execution_count": 15,
   "metadata": {
    "execution": {
     "iopub.execute_input": "2025-09-22T14:50:50.767577Z",
     "iopub.status.busy": "2025-09-22T14:50:50.767405Z",
     "iopub.status.idle": "2025-09-22T14:50:50.770942Z",
     "shell.execute_reply": "2025-09-22T14:50:50.770216Z"
    }
   },
   "outputs": [
    {
     "data": {
      "text/plain": [
       "[[1, 2, 3], [4, 5, 6]]"
      ]
     },
     "execution_count": 15,
     "metadata": {},
     "output_type": "execute_result"
    }
   ],
   "source": [
    "matrix"
   ]
  },
  {
   "cell_type": "code",
   "execution_count": 16,
   "metadata": {
    "execution": {
     "iopub.execute_input": "2025-09-22T14:50:50.772724Z",
     "iopub.status.busy": "2025-09-22T14:50:50.772547Z",
     "iopub.status.idle": "2025-09-22T14:50:50.776837Z",
     "shell.execute_reply": "2025-09-22T14:50:50.776137Z"
    }
   },
   "outputs": [
    {
     "data": {
      "text/plain": [
       "2"
      ]
     },
     "execution_count": 16,
     "metadata": {},
     "output_type": "execute_result"
    }
   ],
   "source": [
    "len(matrix)"
   ]
  },
  {
   "cell_type": "code",
   "execution_count": 17,
   "metadata": {
    "execution": {
     "iopub.execute_input": "2025-09-22T14:50:50.778975Z",
     "iopub.status.busy": "2025-09-22T14:50:50.778726Z",
     "iopub.status.idle": "2025-09-22T14:50:50.784228Z",
     "shell.execute_reply": "2025-09-22T14:50:50.783719Z"
    }
   },
   "outputs": [
    {
     "data": {
      "text/plain": [
       "3"
      ]
     },
     "execution_count": 17,
     "metadata": {},
     "output_type": "execute_result"
    }
   ],
   "source": [
    "len(matrix[0])"
   ]
  },
  {
   "cell_type": "markdown",
   "metadata": {},
   "source": [
    "### Dictionaries\n",
    "Dictionary are used to store data values in key:value pairs."
   ]
  },
  {
   "cell_type": "code",
   "execution_count": 18,
   "metadata": {
    "execution": {
     "iopub.execute_input": "2025-09-22T14:50:50.786052Z",
     "iopub.status.busy": "2025-09-22T14:50:50.785895Z",
     "iopub.status.idle": "2025-09-22T14:50:50.788930Z",
     "shell.execute_reply": "2025-09-22T14:50:50.788195Z"
    }
   },
   "outputs": [
    {
     "name": "stdout",
     "output_type": "stream",
     "text": [
      "{'key_1': 'value_1', 'key_2': 'value_2'}\n"
     ]
    }
   ],
   "source": [
    "d = {'key_1': 'value_1', 'key_2': 'value_2'}\n",
    "print(d)"
   ]
  },
  {
   "cell_type": "code",
   "execution_count": 19,
   "metadata": {
    "execution": {
     "iopub.execute_input": "2025-09-22T14:50:50.790769Z",
     "iopub.status.busy": "2025-09-22T14:50:50.790569Z",
     "iopub.status.idle": "2025-09-22T14:50:50.794697Z",
     "shell.execute_reply": "2025-09-22T14:50:50.793761Z"
    }
   },
   "outputs": [
    {
     "data": {
      "text/plain": [
       "'value_1'"
      ]
     },
     "execution_count": 19,
     "metadata": {},
     "output_type": "execute_result"
    }
   ],
   "source": [
    "d['key_1']"
   ]
  },
  {
   "cell_type": "code",
   "execution_count": 20,
   "metadata": {
    "execution": {
     "iopub.execute_input": "2025-09-22T14:50:50.798910Z",
     "iopub.status.busy": "2025-09-22T14:50:50.798751Z",
     "iopub.status.idle": "2025-09-22T14:50:50.802756Z",
     "shell.execute_reply": "2025-09-22T14:50:50.802022Z"
    }
   },
   "outputs": [
    {
     "data": {
      "text/plain": [
       "dict_keys(['key_1', 'key_2'])"
      ]
     },
     "execution_count": 20,
     "metadata": {},
     "output_type": "execute_result"
    }
   ],
   "source": [
    "d.keys()"
   ]
  },
  {
   "cell_type": "markdown",
   "metadata": {},
   "source": [
    "## Basics of Python: Functions\n",
    "a function is defined using the def keyword."
   ]
  },
  {
   "cell_type": "code",
   "execution_count": 21,
   "metadata": {
    "execution": {
     "iopub.execute_input": "2025-09-22T14:50:50.804473Z",
     "iopub.status.busy": "2025-09-22T14:50:50.804325Z",
     "iopub.status.idle": "2025-09-22T14:50:50.807115Z",
     "shell.execute_reply": "2025-09-22T14:50:50.806377Z"
    }
   },
   "outputs": [],
   "source": [
    "def hello_function():\n",
    "    print(\"Hello!\")"
   ]
  },
  {
   "cell_type": "code",
   "execution_count": 22,
   "metadata": {
    "execution": {
     "iopub.execute_input": "2025-09-22T14:50:50.808705Z",
     "iopub.status.busy": "2025-09-22T14:50:50.808515Z",
     "iopub.status.idle": "2025-09-22T14:50:50.812621Z",
     "shell.execute_reply": "2025-09-22T14:50:50.811237Z"
    }
   },
   "outputs": [],
   "source": [
    "def my_function(x, y):\n",
    "    return x**3, x + y"
   ]
  },
  {
   "cell_type": "code",
   "execution_count": 23,
   "metadata": {
    "execution": {
     "iopub.execute_input": "2025-09-22T14:50:50.814675Z",
     "iopub.status.busy": "2025-09-22T14:50:50.814488Z",
     "iopub.status.idle": "2025-09-22T14:50:50.817667Z",
     "shell.execute_reply": "2025-09-22T14:50:50.816935Z"
    }
   },
   "outputs": [
    {
     "name": "stdout",
     "output_type": "stream",
     "text": [
      "Hello!\n"
     ]
    }
   ],
   "source": [
    "hello_function()"
   ]
  },
  {
   "cell_type": "code",
   "execution_count": 24,
   "metadata": {
    "execution": {
     "iopub.execute_input": "2025-09-22T14:50:50.819743Z",
     "iopub.status.busy": "2025-09-22T14:50:50.819594Z",
     "iopub.status.idle": "2025-09-22T14:50:50.823364Z",
     "shell.execute_reply": "2025-09-22T14:50:50.822747Z"
    }
   },
   "outputs": [
    {
     "data": {
      "text/plain": [
       "(64, 5)"
      ]
     },
     "execution_count": 24,
     "metadata": {},
     "output_type": "execute_result"
    }
   ],
   "source": [
    "my_function(4, 1)"
   ]
  },
  {
   "cell_type": "code",
   "execution_count": null,
   "metadata": {},
   "outputs": [],
   "source": []
  },
  {
   "cell_type": "code",
   "execution_count": null,
   "metadata": {},
   "outputs": [],
   "source": []
  }
 ],
 "metadata": {
  "kernelspec": {
   "display_name": "Python 3 (ipykernel)",
   "language": "python",
   "name": "python3"
  },
  "language_info": {
   "codemirror_mode": {
    "name": "ipython",
    "version": 3
   },
   "file_extension": ".py",
   "mimetype": "text/x-python",
   "name": "python",
   "nbconvert_exporter": "python",
   "pygments_lexer": "ipython3",
   "version": "3.13.7"
  }
 },
 "nbformat": 4,
 "nbformat_minor": 4
}
