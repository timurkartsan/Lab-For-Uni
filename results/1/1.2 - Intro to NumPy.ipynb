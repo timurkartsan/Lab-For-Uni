{
 "cells": [
  {
   "cell_type": "markdown",
   "metadata": {},
   "source": [
    "## Intro to NumPy \n",
    "NumPy is a library for the Python programming language, adding support for large, multi-dimensional arrays and matrices, along with a large collection of high-level mathematical functions to operate on these arrays (https://en.wikipedia.org/wiki/NumPy).\n",
    "\n",
    "Numpy is incredibly fast, as it has bindings to C libraries. "
   ]
  },
  {
   "cell_type": "code",
   "execution_count": 1,
   "metadata": {
    "execution": {
     "iopub.execute_input": "2025-09-22T14:50:35.589764Z",
     "iopub.status.busy": "2025-09-22T14:50:35.589408Z",
     "iopub.status.idle": "2025-09-22T14:50:35.810591Z",
     "shell.execute_reply": "2025-09-22T14:50:35.809499Z"
    }
   },
   "outputs": [],
   "source": [
    "import numpy as np"
   ]
  },
  {
   "cell_type": "markdown",
   "metadata": {},
   "source": [
    "## Creation of NumPy array\n",
    "### From a list"
   ]
  },
  {
   "cell_type": "code",
   "execution_count": 2,
   "metadata": {
    "execution": {
     "iopub.execute_input": "2025-09-22T14:50:35.814890Z",
     "iopub.status.busy": "2025-09-22T14:50:35.814629Z",
     "iopub.status.idle": "2025-09-22T14:50:35.817683Z",
     "shell.execute_reply": "2025-09-22T14:50:35.816899Z"
    }
   },
   "outputs": [],
   "source": [
    "a_list = [1, 2, 3]\n",
    "a_array = np.array(a_list)"
   ]
  },
  {
   "cell_type": "code",
   "execution_count": 3,
   "metadata": {
    "execution": {
     "iopub.execute_input": "2025-09-22T14:50:35.819783Z",
     "iopub.status.busy": "2025-09-22T14:50:35.819577Z",
     "iopub.status.idle": "2025-09-22T14:50:35.822792Z",
     "shell.execute_reply": "2025-09-22T14:50:35.822151Z"
    }
   },
   "outputs": [
    {
     "name": "stdout",
     "output_type": "stream",
     "text": [
      "<class 'list'>\n",
      "<class 'numpy.ndarray'>\n"
     ]
    }
   ],
   "source": [
    "print(type(a_list))\n",
    "print(type(a_array))"
   ]
  },
  {
   "cell_type": "code",
   "execution_count": 4,
   "metadata": {
    "execution": {
     "iopub.execute_input": "2025-09-22T14:50:35.958888Z",
     "iopub.status.busy": "2025-09-22T14:50:35.958659Z",
     "iopub.status.idle": "2025-09-22T14:50:35.962220Z",
     "shell.execute_reply": "2025-09-22T14:50:35.961092Z"
    }
   },
   "outputs": [],
   "source": [
    "matrix = [[1,2,3],[4,5,6],[7,8,9]]\n",
    "a_2D = np.array(matrix)"
   ]
  },
  {
   "cell_type": "markdown",
   "metadata": {},
   "source": [
    "### Using built-in methods"
   ]
  },
  {
   "cell_type": "code",
   "execution_count": 5,
   "metadata": {
    "execution": {
     "iopub.execute_input": "2025-09-22T14:50:35.964891Z",
     "iopub.status.busy": "2025-09-22T14:50:35.964697Z",
     "iopub.status.idle": "2025-09-22T14:50:35.973649Z",
     "shell.execute_reply": "2025-09-22T14:50:35.972849Z"
    }
   },
   "outputs": [
    {
     "data": {
      "text/plain": [
       "array([0, 1, 2, 3, 4, 5, 6, 7, 8, 9])"
      ]
     },
     "execution_count": 5,
     "metadata": {},
     "output_type": "execute_result"
    }
   ],
   "source": [
    "np.arange(0, 10) "
   ]
  },
  {
   "cell_type": "code",
   "execution_count": 6,
   "metadata": {
    "execution": {
     "iopub.execute_input": "2025-09-22T14:50:35.975835Z",
     "iopub.status.busy": "2025-09-22T14:50:35.975588Z",
     "iopub.status.idle": "2025-09-22T14:50:35.980456Z",
     "shell.execute_reply": "2025-09-22T14:50:35.979734Z"
    }
   },
   "outputs": [
    {
     "data": {
      "text/plain": [
       "array([0, 2, 4, 6, 8])"
      ]
     },
     "execution_count": 6,
     "metadata": {},
     "output_type": "execute_result"
    }
   ],
   "source": [
    "np.arange(0, 10, 2) # np.arange(start, stop, step)"
   ]
  },
  {
   "cell_type": "code",
   "execution_count": 7,
   "metadata": {
    "execution": {
     "iopub.execute_input": "2025-09-22T14:50:35.983277Z",
     "iopub.status.busy": "2025-09-22T14:50:35.982854Z",
     "iopub.status.idle": "2025-09-22T14:50:35.990319Z",
     "shell.execute_reply": "2025-09-22T14:50:35.989414Z"
    }
   },
   "outputs": [
    {
     "data": {
      "text/plain": [
       "array([0., 0., 0.])"
      ]
     },
     "execution_count": 7,
     "metadata": {},
     "output_type": "execute_result"
    }
   ],
   "source": [
    "np.zeros(3)"
   ]
  },
  {
   "cell_type": "code",
   "execution_count": 8,
   "metadata": {
    "execution": {
     "iopub.execute_input": "2025-09-22T14:50:35.992614Z",
     "iopub.status.busy": "2025-09-22T14:50:35.992404Z",
     "iopub.status.idle": "2025-09-22T14:50:35.996803Z",
     "shell.execute_reply": "2025-09-22T14:50:35.995959Z"
    }
   },
   "outputs": [
    {
     "data": {
      "text/plain": [
       "array([[0., 0., 0.],\n",
       "       [0., 0., 0.],\n",
       "       [0., 0., 0.]])"
      ]
     },
     "execution_count": 8,
     "metadata": {},
     "output_type": "execute_result"
    }
   ],
   "source": [
    "np.zeros((3, 3))"
   ]
  },
  {
   "cell_type": "code",
   "execution_count": 9,
   "metadata": {
    "execution": {
     "iopub.execute_input": "2025-09-22T14:50:36.000047Z",
     "iopub.status.busy": "2025-09-22T14:50:35.999206Z",
     "iopub.status.idle": "2025-09-22T14:50:36.007931Z",
     "shell.execute_reply": "2025-09-22T14:50:36.007175Z"
    }
   },
   "outputs": [
    {
     "data": {
      "text/plain": [
       "array([ 0.        ,  0.52631579,  1.05263158,  1.57894737,  2.10526316,\n",
       "        2.63157895,  3.15789474,  3.68421053,  4.21052632,  4.73684211,\n",
       "        5.26315789,  5.78947368,  6.31578947,  6.84210526,  7.36842105,\n",
       "        7.89473684,  8.42105263,  8.94736842,  9.47368421, 10.        ])"
      ]
     },
     "execution_count": 9,
     "metadata": {},
     "output_type": "execute_result"
    }
   ],
   "source": [
    "np.linspace(0, 10, 20) # np.linspace(start, stop, num=50) "
   ]
  },
  {
   "cell_type": "markdown",
   "metadata": {},
   "source": [
    "## Random \n",
    "\n",
    "### uniform\n",
    "Return an array of the given shape with random samples from a uniform distribution"
   ]
  },
  {
   "cell_type": "code",
   "execution_count": 10,
   "metadata": {
    "execution": {
     "iopub.execute_input": "2025-09-22T14:50:36.009969Z",
     "iopub.status.busy": "2025-09-22T14:50:36.009763Z",
     "iopub.status.idle": "2025-09-22T14:50:36.083775Z",
     "shell.execute_reply": "2025-09-22T14:50:36.083079Z"
    }
   },
   "outputs": [
    {
     "data": {
      "text/plain": [
       "array([0.70872269, 0.9936273 , 0.7628841 , 0.78544604, 0.35856305])"
      ]
     },
     "execution_count": 10,
     "metadata": {},
     "output_type": "execute_result"
    }
   ],
   "source": [
    "np.random.uniform(0, 1, 5) # (low, high, size)"
   ]
  },
  {
   "cell_type": "markdown",
   "metadata": {},
   "source": [
    "### randn\n",
    "Return samples from the “standard normal” distribution."
   ]
  },
  {
   "cell_type": "code",
   "execution_count": 11,
   "metadata": {
    "execution": {
     "iopub.execute_input": "2025-09-22T14:50:36.085854Z",
     "iopub.status.busy": "2025-09-22T14:50:36.085644Z",
     "iopub.status.idle": "2025-09-22T14:50:36.090500Z",
     "shell.execute_reply": "2025-09-22T14:50:36.089621Z"
    }
   },
   "outputs": [
    {
     "data": {
      "text/plain": [
       "array([[-1.4723531 , -0.37239065],\n",
       "       [ 0.32969529,  1.63850596]])"
      ]
     },
     "execution_count": 11,
     "metadata": {},
     "output_type": "execute_result"
    }
   ],
   "source": [
    "np.random.randn(2,2) # standard normal (Gaussian) distribution of mean 0 and variance 1"
   ]
  },
  {
   "cell_type": "markdown",
   "metadata": {},
   "source": [
    "### normal"
   ]
  },
  {
   "cell_type": "code",
   "execution_count": 12,
   "metadata": {
    "execution": {
     "iopub.execute_input": "2025-09-22T14:50:36.094891Z",
     "iopub.status.busy": "2025-09-22T14:50:36.093992Z",
     "iopub.status.idle": "2025-09-22T14:50:36.100915Z",
     "shell.execute_reply": "2025-09-22T14:50:36.100166Z"
    }
   },
   "outputs": [
    {
     "data": {
      "text/plain": [
       "array([[1.79629956, 0.87695225],\n",
       "       [1.1681685 , 0.58727602],\n",
       "       [1.58191618, 0.86370527]])"
      ]
     },
     "execution_count": 12,
     "metadata": {},
     "output_type": "execute_result"
    }
   ],
   "source": [
    "mu, sigma = 1, 0.5 # mean and standard deviation\n",
    "np.random.normal(mu, sigma, size = (3, 2))"
   ]
  },
  {
   "cell_type": "markdown",
   "metadata": {},
   "source": [
    "### multivariate normal"
   ]
  },
  {
   "cell_type": "code",
   "execution_count": 13,
   "metadata": {
    "execution": {
     "iopub.execute_input": "2025-09-22T14:50:36.102944Z",
     "iopub.status.busy": "2025-09-22T14:50:36.102767Z",
     "iopub.status.idle": "2025-09-22T14:50:36.133307Z",
     "shell.execute_reply": "2025-09-22T14:50:36.132608Z"
    }
   },
   "outputs": [
    {
     "data": {
      "text/plain": [
       "array([[[ 2.42874603, -0.35170014],\n",
       "        [ 0.74251315,  2.59152959]],\n",
       "\n",
       "       [[ 2.15078677,  2.79463192],\n",
       "        [ 2.99704826,  1.95770226]],\n",
       "\n",
       "       [[-0.2043619 ,  0.26738637],\n",
       "        [ 1.81327397,  2.75515792]]])"
      ]
     },
     "execution_count": 13,
     "metadata": {},
     "output_type": "execute_result"
    }
   ],
   "source": [
    "mean = [1, 2]\n",
    "cov = [[1, 0], [0, 1]]\n",
    "np.random.multivariate_normal(mean, cov, size= (3, 2))"
   ]
  },
  {
   "cell_type": "markdown",
   "metadata": {},
   "source": [
    "### randint\n",
    "Return random integers "
   ]
  },
  {
   "cell_type": "code",
   "execution_count": 14,
   "metadata": {
    "execution": {
     "iopub.execute_input": "2025-09-22T14:50:36.135537Z",
     "iopub.status.busy": "2025-09-22T14:50:36.135336Z",
     "iopub.status.idle": "2025-09-22T14:50:36.144247Z",
     "shell.execute_reply": "2025-09-22T14:50:36.143311Z"
    }
   },
   "outputs": [
    {
     "data": {
      "text/plain": [
       "array([ 3, 41, 10, 51, 44])"
      ]
     },
     "execution_count": 14,
     "metadata": {},
     "output_type": "execute_result"
    }
   ],
   "source": [
    "np.random.randint(1, 100, 5) # randint(low, high=None, size=None)"
   ]
  },
  {
   "cell_type": "markdown",
   "metadata": {},
   "source": [
    "### seed()\n",
    "The seed() method is used to initialize the random number generator."
   ]
  },
  {
   "cell_type": "code",
   "execution_count": 15,
   "metadata": {
    "execution": {
     "iopub.execute_input": "2025-09-22T14:50:36.146826Z",
     "iopub.status.busy": "2025-09-22T14:50:36.146611Z",
     "iopub.status.idle": "2025-09-22T14:50:36.150607Z",
     "shell.execute_reply": "2025-09-22T14:50:36.149232Z"
    }
   },
   "outputs": [],
   "source": [
    "np.random.seed(0)  "
   ]
  },
  {
   "cell_type": "markdown",
   "metadata": {},
   "source": [
    "### Operations"
   ]
  },
  {
   "cell_type": "code",
   "execution_count": 16,
   "metadata": {
    "execution": {
     "iopub.execute_input": "2025-09-22T14:50:36.153298Z",
     "iopub.status.busy": "2025-09-22T14:50:36.153091Z",
     "iopub.status.idle": "2025-09-22T14:50:36.159381Z",
     "shell.execute_reply": "2025-09-22T14:50:36.157744Z"
    }
   },
   "outputs": [
    {
     "name": "stdout",
     "output_type": "stream",
     "text": [
      "arr: \n",
      "[0 1 2 3 4 5 6 7 8 9]\n",
      "arr_r: \n",
      "[[0 1 2 3 4]\n",
      " [5 6 7 8 9]]\n"
     ]
    }
   ],
   "source": [
    "arr = np.arange(0, 10) \n",
    "arr_r = arr.reshape(2, 5)\n",
    "print('arr: ')\n",
    "print(arr)\n",
    "print('arr_r: ')\n",
    "print(arr_r)"
   ]
  },
  {
   "cell_type": "code",
   "execution_count": 17,
   "metadata": {
    "execution": {
     "iopub.execute_input": "2025-09-22T14:50:36.161373Z",
     "iopub.status.busy": "2025-09-22T14:50:36.161185Z",
     "iopub.status.idle": "2025-09-22T14:50:36.164851Z",
     "shell.execute_reply": "2025-09-22T14:50:36.164046Z"
    }
   },
   "outputs": [
    {
     "name": "stdout",
     "output_type": "stream",
     "text": [
      "[45 48 65 68 68 10 84 22 37 88]\n"
     ]
    }
   ],
   "source": [
    "my_arr = np.random.randint(1, 100, 10)\n",
    "print(my_arr)"
   ]
  },
  {
   "cell_type": "code",
   "execution_count": 18,
   "metadata": {
    "execution": {
     "iopub.execute_input": "2025-09-22T14:50:36.167286Z",
     "iopub.status.busy": "2025-09-22T14:50:36.167105Z",
     "iopub.status.idle": "2025-09-22T14:50:36.171299Z",
     "shell.execute_reply": "2025-09-22T14:50:36.170231Z"
    }
   },
   "outputs": [
    {
     "data": {
      "text/plain": [
       "np.int64(88)"
      ]
     },
     "execution_count": 18,
     "metadata": {},
     "output_type": "execute_result"
    }
   ],
   "source": [
    "my_arr.max()"
   ]
  },
  {
   "cell_type": "code",
   "execution_count": 19,
   "metadata": {
    "execution": {
     "iopub.execute_input": "2025-09-22T14:50:36.175769Z",
     "iopub.status.busy": "2025-09-22T14:50:36.175579Z",
     "iopub.status.idle": "2025-09-22T14:50:36.182645Z",
     "shell.execute_reply": "2025-09-22T14:50:36.181828Z"
    }
   },
   "outputs": [
    {
     "data": {
      "text/plain": [
       "np.int64(9)"
      ]
     },
     "execution_count": 19,
     "metadata": {},
     "output_type": "execute_result"
    }
   ],
   "source": [
    "my_arr.argmax()"
   ]
  },
  {
   "cell_type": "code",
   "execution_count": 20,
   "metadata": {
    "execution": {
     "iopub.execute_input": "2025-09-22T14:50:36.185056Z",
     "iopub.status.busy": "2025-09-22T14:50:36.184835Z",
     "iopub.status.idle": "2025-09-22T14:50:36.189694Z",
     "shell.execute_reply": "2025-09-22T14:50:36.187652Z"
    }
   },
   "outputs": [],
   "source": [
    "arr_1 = np.array([1, 2, 3])\n",
    "arr_2 = np.array([4, 5, 6])"
   ]
  },
  {
   "cell_type": "code",
   "execution_count": 21,
   "metadata": {
    "execution": {
     "iopub.execute_input": "2025-09-22T14:50:36.192424Z",
     "iopub.status.busy": "2025-09-22T14:50:36.192111Z",
     "iopub.status.idle": "2025-09-22T14:50:36.197727Z",
     "shell.execute_reply": "2025-09-22T14:50:36.197000Z"
    }
   },
   "outputs": [
    {
     "data": {
      "text/plain": [
       "array([5, 7, 9])"
      ]
     },
     "execution_count": 21,
     "metadata": {},
     "output_type": "execute_result"
    }
   ],
   "source": [
    "arr_1 + arr_2"
   ]
  },
  {
   "cell_type": "code",
   "execution_count": 22,
   "metadata": {
    "execution": {
     "iopub.execute_input": "2025-09-22T14:50:36.199942Z",
     "iopub.status.busy": "2025-09-22T14:50:36.199767Z",
     "iopub.status.idle": "2025-09-22T14:50:36.205384Z",
     "shell.execute_reply": "2025-09-22T14:50:36.203547Z"
    }
   },
   "outputs": [
    {
     "data": {
      "text/plain": [
       "array([ 4, 10, 18])"
      ]
     },
     "execution_count": 22,
     "metadata": {},
     "output_type": "execute_result"
    }
   ],
   "source": [
    "arr_1 * arr_2"
   ]
  },
  {
   "cell_type": "code",
   "execution_count": 23,
   "metadata": {
    "execution": {
     "iopub.execute_input": "2025-09-22T14:50:36.208076Z",
     "iopub.status.busy": "2025-09-22T14:50:36.207857Z",
     "iopub.status.idle": "2025-09-22T14:50:36.212372Z",
     "shell.execute_reply": "2025-09-22T14:50:36.211608Z"
    }
   },
   "outputs": [
    {
     "data": {
      "text/plain": [
       "array([ 2.71828183,  7.3890561 , 20.08553692])"
      ]
     },
     "execution_count": 23,
     "metadata": {},
     "output_type": "execute_result"
    }
   ],
   "source": [
    "np.exp(arr_1)"
   ]
  },
  {
   "cell_type": "code",
   "execution_count": 24,
   "metadata": {
    "execution": {
     "iopub.execute_input": "2025-09-22T14:50:36.214729Z",
     "iopub.status.busy": "2025-09-22T14:50:36.214538Z",
     "iopub.status.idle": "2025-09-22T14:50:36.220312Z",
     "shell.execute_reply": "2025-09-22T14:50:36.218142Z"
    }
   },
   "outputs": [
    {
     "data": {
      "text/plain": [
       "array([0.        , 0.69314718, 1.09861229])"
      ]
     },
     "execution_count": 24,
     "metadata": {},
     "output_type": "execute_result"
    }
   ],
   "source": [
    "np.log(arr_1)"
   ]
  },
  {
   "cell_type": "code",
   "execution_count": null,
   "metadata": {},
   "outputs": [],
   "source": []
  }
 ],
 "metadata": {
  "kernelspec": {
   "display_name": "Python 3 (ipykernel)",
   "language": "python",
   "name": "python3"
  },
  "language_info": {
   "codemirror_mode": {
    "name": "ipython",
    "version": 3
   },
   "file_extension": ".py",
   "mimetype": "text/x-python",
   "name": "python",
   "nbconvert_exporter": "python",
   "pygments_lexer": "ipython3",
   "version": "3.13.7"
  }
 },
 "nbformat": 4,
 "nbformat_minor": 4
}
