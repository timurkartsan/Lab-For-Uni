{
 "cells": [
  {
   "cell_type": "markdown",
   "metadata": {},
   "source": [
    "## Intro to NumPy \n",
    "NumPy is a library for the Python programming language, adding support for large, multi-dimensional arrays and matrices, along with a large collection of high-level mathematical functions to operate on these arrays (https://en.wikipedia.org/wiki/NumPy).\n",
    "\n",
    "Numpy is incredibly fast, as it has bindings to C libraries. "
   ]
  },
  {
   "cell_type": "code",
   "execution_count": 1,
   "metadata": {
    "execution": {
     "iopub.execute_input": "2025-09-27T21:27:43.715239Z",
     "iopub.status.busy": "2025-09-27T21:27:43.714982Z",
     "iopub.status.idle": "2025-09-27T21:27:43.856975Z",
     "shell.execute_reply": "2025-09-27T21:27:43.856284Z"
    }
   },
   "outputs": [],
   "source": [
    "import numpy as np"
   ]
  },
  {
   "cell_type": "markdown",
   "metadata": {},
   "source": [
    "## Creation of NumPy array\n",
    "### From a list"
   ]
  },
  {
   "cell_type": "code",
   "execution_count": 2,
   "metadata": {
    "execution": {
     "iopub.execute_input": "2025-09-27T21:27:43.861476Z",
     "iopub.status.busy": "2025-09-27T21:27:43.861039Z",
     "iopub.status.idle": "2025-09-27T21:27:43.865633Z",
     "shell.execute_reply": "2025-09-27T21:27:43.864569Z"
    }
   },
   "outputs": [],
   "source": [
    "a_list = [1, 2, 3]\n",
    "a_array = np.array(a_list)"
   ]
  },
  {
   "cell_type": "code",
   "execution_count": 3,
   "metadata": {
    "execution": {
     "iopub.execute_input": "2025-09-27T21:27:43.868030Z",
     "iopub.status.busy": "2025-09-27T21:27:43.867759Z",
     "iopub.status.idle": "2025-09-27T21:27:43.872339Z",
     "shell.execute_reply": "2025-09-27T21:27:43.871397Z"
    }
   },
   "outputs": [
    {
     "name": "stdout",
     "output_type": "stream",
     "text": [
      "<class 'list'>\n",
      "<class 'numpy.ndarray'>\n"
     ]
    }
   ],
   "source": [
    "print(type(a_list))\n",
    "print(type(a_array))"
   ]
  },
  {
   "cell_type": "code",
   "execution_count": 4,
   "metadata": {
    "execution": {
     "iopub.execute_input": "2025-09-27T21:27:43.874822Z",
     "iopub.status.busy": "2025-09-27T21:27:43.874592Z",
     "iopub.status.idle": "2025-09-27T21:27:43.880715Z",
     "shell.execute_reply": "2025-09-27T21:27:43.879699Z"
    }
   },
   "outputs": [],
   "source": [
    "matrix = [[1,2,3],[4,5,6],[7,8,9]]\n",
    "a_2D = np.array(matrix)"
   ]
  },
  {
   "cell_type": "markdown",
   "metadata": {},
   "source": [
    "### Using built-in methods"
   ]
  },
  {
   "cell_type": "code",
   "execution_count": 5,
   "metadata": {
    "execution": {
     "iopub.execute_input": "2025-09-27T21:27:43.883200Z",
     "iopub.status.busy": "2025-09-27T21:27:43.883020Z",
     "iopub.status.idle": "2025-09-27T21:27:43.889279Z",
     "shell.execute_reply": "2025-09-27T21:27:43.888577Z"
    }
   },
   "outputs": [
    {
     "data": {
      "text/plain": [
       "array([0, 1, 2, 3, 4, 5, 6, 7, 8, 9])"
      ]
     },
     "execution_count": 5,
     "metadata": {},
     "output_type": "execute_result"
    }
   ],
   "source": [
    "np.arange(0, 10) "
   ]
  },
  {
   "cell_type": "code",
   "execution_count": 6,
   "metadata": {
    "execution": {
     "iopub.execute_input": "2025-09-27T21:27:43.892322Z",
     "iopub.status.busy": "2025-09-27T21:27:43.891725Z",
     "iopub.status.idle": "2025-09-27T21:27:43.898672Z",
     "shell.execute_reply": "2025-09-27T21:27:43.897933Z"
    }
   },
   "outputs": [
    {
     "data": {
      "text/plain": [
       "array([0, 2, 4, 6, 8])"
      ]
     },
     "execution_count": 6,
     "metadata": {},
     "output_type": "execute_result"
    }
   ],
   "source": [
    "np.arange(0, 10, 2) # np.arange(start, stop, step)"
   ]
  },
  {
   "cell_type": "code",
   "execution_count": 7,
   "metadata": {
    "execution": {
     "iopub.execute_input": "2025-09-27T21:27:43.901099Z",
     "iopub.status.busy": "2025-09-27T21:27:43.900824Z",
     "iopub.status.idle": "2025-09-27T21:27:43.905464Z",
     "shell.execute_reply": "2025-09-27T21:27:43.904736Z"
    }
   },
   "outputs": [
    {
     "data": {
      "text/plain": [
       "array([0., 0., 0.])"
      ]
     },
     "execution_count": 7,
     "metadata": {},
     "output_type": "execute_result"
    }
   ],
   "source": [
    "np.zeros(3)"
   ]
  },
  {
   "cell_type": "code",
   "execution_count": 8,
   "metadata": {
    "execution": {
     "iopub.execute_input": "2025-09-27T21:27:43.907361Z",
     "iopub.status.busy": "2025-09-27T21:27:43.907198Z",
     "iopub.status.idle": "2025-09-27T21:27:43.913891Z",
     "shell.execute_reply": "2025-09-27T21:27:43.913111Z"
    }
   },
   "outputs": [
    {
     "data": {
      "text/plain": [
       "array([[0., 0., 0.],\n",
       "       [0., 0., 0.],\n",
       "       [0., 0., 0.]])"
      ]
     },
     "execution_count": 8,
     "metadata": {},
     "output_type": "execute_result"
    }
   ],
   "source": [
    "np.zeros((3, 3))"
   ]
  },
  {
   "cell_type": "code",
   "execution_count": 9,
   "metadata": {
    "execution": {
     "iopub.execute_input": "2025-09-27T21:27:43.916163Z",
     "iopub.status.busy": "2025-09-27T21:27:43.915985Z",
     "iopub.status.idle": "2025-09-27T21:27:43.920155Z",
     "shell.execute_reply": "2025-09-27T21:27:43.919635Z"
    }
   },
   "outputs": [
    {
     "data": {
      "text/plain": [
       "array([ 0.        ,  0.52631579,  1.05263158,  1.57894737,  2.10526316,\n",
       "        2.63157895,  3.15789474,  3.68421053,  4.21052632,  4.73684211,\n",
       "        5.26315789,  5.78947368,  6.31578947,  6.84210526,  7.36842105,\n",
       "        7.89473684,  8.42105263,  8.94736842,  9.47368421, 10.        ])"
      ]
     },
     "execution_count": 9,
     "metadata": {},
     "output_type": "execute_result"
    }
   ],
   "source": [
    "np.linspace(0, 10, 20) # np.linspace(start, stop, num=50) "
   ]
  },
  {
   "cell_type": "markdown",
   "metadata": {},
   "source": [
    "## Random \n",
    "\n",
    "### uniform\n",
    "Return an array of the given shape with random samples from a uniform distribution"
   ]
  },
  {
   "cell_type": "code",
   "execution_count": 10,
   "metadata": {
    "execution": {
     "iopub.execute_input": "2025-09-27T21:27:43.922315Z",
     "iopub.status.busy": "2025-09-27T21:27:43.922139Z",
     "iopub.status.idle": "2025-09-27T21:27:43.941273Z",
     "shell.execute_reply": "2025-09-27T21:27:43.940356Z"
    }
   },
   "outputs": [
    {
     "data": {
      "text/plain": [
       "array([0.76893528, 0.69457916, 0.52743349, 0.99585813, 0.74523464])"
      ]
     },
     "execution_count": 10,
     "metadata": {},
     "output_type": "execute_result"
    }
   ],
   "source": [
    "np.random.uniform(0, 1, 5) # (low, high, size)"
   ]
  },
  {
   "cell_type": "markdown",
   "metadata": {},
   "source": [
    "### randn\n",
    "Return samples from the “standard normal” distribution."
   ]
  },
  {
   "cell_type": "code",
   "execution_count": 11,
   "metadata": {
    "execution": {
     "iopub.execute_input": "2025-09-27T21:27:43.945902Z",
     "iopub.status.busy": "2025-09-27T21:27:43.945634Z",
     "iopub.status.idle": "2025-09-27T21:27:43.950267Z",
     "shell.execute_reply": "2025-09-27T21:27:43.949571Z"
    }
   },
   "outputs": [
    {
     "data": {
      "text/plain": [
       "array([[-0.53762585, -0.70023879],\n",
       "       [-1.24294042,  0.49221797]])"
      ]
     },
     "execution_count": 11,
     "metadata": {},
     "output_type": "execute_result"
    }
   ],
   "source": [
    "np.random.randn(2,2) # standard normal (Gaussian) distribution of mean 0 and variance 1"
   ]
  },
  {
   "cell_type": "markdown",
   "metadata": {},
   "source": [
    "### normal"
   ]
  },
  {
   "cell_type": "code",
   "execution_count": 12,
   "metadata": {
    "execution": {
     "iopub.execute_input": "2025-09-27T21:27:43.952976Z",
     "iopub.status.busy": "2025-09-27T21:27:43.952778Z",
     "iopub.status.idle": "2025-09-27T21:27:43.956999Z",
     "shell.execute_reply": "2025-09-27T21:27:43.956378Z"
    }
   },
   "outputs": [
    {
     "data": {
      "text/plain": [
       "array([[1.38383137, 1.064638  ],\n",
       "       [1.48252926, 0.94771816],\n",
       "       [0.11855537, 0.75634958]])"
      ]
     },
     "execution_count": 12,
     "metadata": {},
     "output_type": "execute_result"
    }
   ],
   "source": [
    "mu, sigma = 1, 0.5 # mean and standard deviation\n",
    "np.random.normal(mu, sigma, size = (3, 2))"
   ]
  },
  {
   "cell_type": "markdown",
   "metadata": {},
   "source": [
    "### multivariate normal"
   ]
  },
  {
   "cell_type": "code",
   "execution_count": 13,
   "metadata": {
    "execution": {
     "iopub.execute_input": "2025-09-27T21:27:43.960384Z",
     "iopub.status.busy": "2025-09-27T21:27:43.959928Z",
     "iopub.status.idle": "2025-09-27T21:27:43.968524Z",
     "shell.execute_reply": "2025-09-27T21:27:43.967686Z"
    }
   },
   "outputs": [
    {
     "data": {
      "text/plain": [
       "array([[[0.40908842, 0.50189381],\n",
       "        [1.94229206, 3.16734172]],\n",
       "\n",
       "       [[0.80526634, 3.30338415],\n",
       "        [1.5538014 , 1.74910056]],\n",
       "\n",
       "       [[1.22616038, 1.73609765],\n",
       "        [1.0315307 , 1.04162543]]])"
      ]
     },
     "execution_count": 13,
     "metadata": {},
     "output_type": "execute_result"
    }
   ],
   "source": [
    "mean = [1, 2]\n",
    "cov = [[1, 0], [0, 1]]\n",
    "np.random.multivariate_normal(mean, cov, size= (3, 2))"
   ]
  },
  {
   "cell_type": "markdown",
   "metadata": {},
   "source": [
    "### randint\n",
    "Return random integers "
   ]
  },
  {
   "cell_type": "code",
   "execution_count": 14,
   "metadata": {
    "execution": {
     "iopub.execute_input": "2025-09-27T21:27:43.971071Z",
     "iopub.status.busy": "2025-09-27T21:27:43.970743Z",
     "iopub.status.idle": "2025-09-27T21:27:43.978164Z",
     "shell.execute_reply": "2025-09-27T21:27:43.977255Z"
    }
   },
   "outputs": [
    {
     "data": {
      "text/plain": [
       "array([67,  6, 52, 82, 11], dtype=int32)"
      ]
     },
     "execution_count": 14,
     "metadata": {},
     "output_type": "execute_result"
    }
   ],
   "source": [
    "np.random.randint(1, 100, 5) # randint(low, high=None, size=None)"
   ]
  },
  {
   "cell_type": "markdown",
   "metadata": {},
   "source": [
    "### seed()\n",
    "The seed() method is used to initialize the random number generator."
   ]
  },
  {
   "cell_type": "code",
   "execution_count": 15,
   "metadata": {
    "execution": {
     "iopub.execute_input": "2025-09-27T21:27:43.980737Z",
     "iopub.status.busy": "2025-09-27T21:27:43.980522Z",
     "iopub.status.idle": "2025-09-27T21:27:43.984636Z",
     "shell.execute_reply": "2025-09-27T21:27:43.983799Z"
    }
   },
   "outputs": [],
   "source": [
    "np.random.seed(0)  "
   ]
  },
  {
   "cell_type": "markdown",
   "metadata": {},
   "source": [
    "### Operations"
   ]
  },
  {
   "cell_type": "code",
   "execution_count": 16,
   "metadata": {
    "execution": {
     "iopub.execute_input": "2025-09-27T21:27:43.987544Z",
     "iopub.status.busy": "2025-09-27T21:27:43.987307Z",
     "iopub.status.idle": "2025-09-27T21:27:43.991447Z",
     "shell.execute_reply": "2025-09-27T21:27:43.990869Z"
    }
   },
   "outputs": [
    {
     "name": "stdout",
     "output_type": "stream",
     "text": [
      "arr: \n",
      "[0 1 2 3 4 5 6 7 8 9]\n",
      "arr_r: \n",
      "[[0 1 2 3 4]\n",
      " [5 6 7 8 9]]\n"
     ]
    }
   ],
   "source": [
    "arr = np.arange(0, 10) \n",
    "arr_r = arr.reshape(2, 5)\n",
    "print('arr: ')\n",
    "print(arr)\n",
    "print('arr_r: ')\n",
    "print(arr_r)"
   ]
  },
  {
   "cell_type": "code",
   "execution_count": 17,
   "metadata": {
    "execution": {
     "iopub.execute_input": "2025-09-27T21:27:43.995545Z",
     "iopub.status.busy": "2025-09-27T21:27:43.995315Z",
     "iopub.status.idle": "2025-09-27T21:27:43.998705Z",
     "shell.execute_reply": "2025-09-27T21:27:43.998250Z"
    }
   },
   "outputs": [
    {
     "name": "stdout",
     "output_type": "stream",
     "text": [
      "[45 48 65 68 68 10 84 22 37 88]\n"
     ]
    }
   ],
   "source": [
    "my_arr = np.random.randint(1, 100, 10)\n",
    "print(my_arr)"
   ]
  },
  {
   "cell_type": "code",
   "execution_count": 18,
   "metadata": {
    "execution": {
     "iopub.execute_input": "2025-09-27T21:27:44.000707Z",
     "iopub.status.busy": "2025-09-27T21:27:44.000537Z",
     "iopub.status.idle": "2025-09-27T21:27:44.004795Z",
     "shell.execute_reply": "2025-09-27T21:27:44.004363Z"
    }
   },
   "outputs": [
    {
     "data": {
      "text/plain": [
       "np.int32(88)"
      ]
     },
     "execution_count": 18,
     "metadata": {},
     "output_type": "execute_result"
    }
   ],
   "source": [
    "my_arr.max()"
   ]
  },
  {
   "cell_type": "code",
   "execution_count": 19,
   "metadata": {
    "execution": {
     "iopub.execute_input": "2025-09-27T21:27:44.006694Z",
     "iopub.status.busy": "2025-09-27T21:27:44.006524Z",
     "iopub.status.idle": "2025-09-27T21:27:44.012174Z",
     "shell.execute_reply": "2025-09-27T21:27:44.011488Z"
    }
   },
   "outputs": [
    {
     "data": {
      "text/plain": [
       "np.int64(9)"
      ]
     },
     "execution_count": 19,
     "metadata": {},
     "output_type": "execute_result"
    }
   ],
   "source": [
    "my_arr.argmax()"
   ]
  },
  {
   "cell_type": "code",
   "execution_count": 20,
   "metadata": {
    "execution": {
     "iopub.execute_input": "2025-09-27T21:27:44.014188Z",
     "iopub.status.busy": "2025-09-27T21:27:44.014000Z",
     "iopub.status.idle": "2025-09-27T21:27:44.016802Z",
     "shell.execute_reply": "2025-09-27T21:27:44.016334Z"
    }
   },
   "outputs": [],
   "source": [
    "arr_1 = np.array([1, 2, 3])\n",
    "arr_2 = np.array([4, 5, 6])"
   ]
  },
  {
   "cell_type": "code",
   "execution_count": 21,
   "metadata": {
    "execution": {
     "iopub.execute_input": "2025-09-27T21:27:44.019071Z",
     "iopub.status.busy": "2025-09-27T21:27:44.018852Z",
     "iopub.status.idle": "2025-09-27T21:27:44.022404Z",
     "shell.execute_reply": "2025-09-27T21:27:44.021977Z"
    }
   },
   "outputs": [
    {
     "data": {
      "text/plain": [
       "array([5, 7, 9])"
      ]
     },
     "execution_count": 21,
     "metadata": {},
     "output_type": "execute_result"
    }
   ],
   "source": [
    "arr_1 + arr_2"
   ]
  },
  {
   "cell_type": "code",
   "execution_count": 22,
   "metadata": {
    "execution": {
     "iopub.execute_input": "2025-09-27T21:27:44.024158Z",
     "iopub.status.busy": "2025-09-27T21:27:44.023999Z",
     "iopub.status.idle": "2025-09-27T21:27:44.029596Z",
     "shell.execute_reply": "2025-09-27T21:27:44.028943Z"
    }
   },
   "outputs": [
    {
     "data": {
      "text/plain": [
       "array([ 4, 10, 18])"
      ]
     },
     "execution_count": 22,
     "metadata": {},
     "output_type": "execute_result"
    }
   ],
   "source": [
    "arr_1 * arr_2"
   ]
  },
  {
   "cell_type": "code",
   "execution_count": 23,
   "metadata": {
    "execution": {
     "iopub.execute_input": "2025-09-27T21:27:44.031565Z",
     "iopub.status.busy": "2025-09-27T21:27:44.031391Z",
     "iopub.status.idle": "2025-09-27T21:27:44.035978Z",
     "shell.execute_reply": "2025-09-27T21:27:44.035242Z"
    }
   },
   "outputs": [
    {
     "data": {
      "text/plain": [
       "array([ 2.71828183,  7.3890561 , 20.08553692])"
      ]
     },
     "execution_count": 23,
     "metadata": {},
     "output_type": "execute_result"
    }
   ],
   "source": [
    "np.exp(arr_1)"
   ]
  },
  {
   "cell_type": "code",
   "execution_count": 24,
   "metadata": {
    "execution": {
     "iopub.execute_input": "2025-09-27T21:27:44.037910Z",
     "iopub.status.busy": "2025-09-27T21:27:44.037725Z",
     "iopub.status.idle": "2025-09-27T21:27:44.041271Z",
     "shell.execute_reply": "2025-09-27T21:27:44.040852Z"
    }
   },
   "outputs": [
    {
     "data": {
      "text/plain": [
       "array([0.        , 0.69314718, 1.09861229])"
      ]
     },
     "execution_count": 24,
     "metadata": {},
     "output_type": "execute_result"
    }
   ],
   "source": [
    "np.log(arr_1)"
   ]
  },
  {
   "cell_type": "code",
   "execution_count": null,
   "metadata": {},
   "outputs": [],
   "source": []
  }
 ],
 "metadata": {
  "kernelspec": {
   "display_name": "Python 3 (ipykernel)",
   "language": "python",
   "name": "python3"
  },
  "language_info": {
   "codemirror_mode": {
    "name": "ipython",
    "version": 3
   },
   "file_extension": ".py",
   "mimetype": "text/x-python",
   "name": "python",
   "nbconvert_exporter": "python",
   "pygments_lexer": "ipython3",
   "version": "3.13.7"
  }
 },
 "nbformat": 4,
 "nbformat_minor": 4
}
