{
 "cells": [
  {
   "cell_type": "code",
   "execution_count": 1,
   "id": "ccbcf14b-b893-49b0-9f90-5e77b66e0112",
   "metadata": {
    "execution": {
     "iopub.execute_input": "2025-09-22T14:52:42.142908Z",
     "iopub.status.busy": "2025-09-22T14:52:42.142719Z",
     "iopub.status.idle": "2025-09-22T14:52:42.150514Z",
     "shell.execute_reply": "2025-09-22T14:52:42.149288Z"
    },
    "scrolled": true
   },
   "outputs": [
    {
     "data": {
      "text/plain": [
       "7"
      ]
     },
     "execution_count": 1,
     "metadata": {},
     "output_type": "execute_result"
    }
   ],
   "source": [
    "0+7"
   ]
  }
 ],
 "metadata": {
  "kernelspec": {
   "display_name": "Python 3 (ipykernel)",
   "language": "python",
   "name": "python3"
  },
  "language_info": {
   "codemirror_mode": {
    "name": "ipython",
    "version": 3
   },
   "file_extension": ".py",
   "mimetype": "text/x-python",
   "name": "python",
   "nbconvert_exporter": "python",
   "pygments_lexer": "ipython3",
   "version": "3.13.7"
  }
 },
 "nbformat": 4,
 "nbformat_minor": 5
}
