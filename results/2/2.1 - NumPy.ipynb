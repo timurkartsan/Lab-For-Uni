{
 "cells": [
  {
   "cell_type": "code",
   "execution_count": 1,
   "metadata": {
    "execution": {
     "iopub.execute_input": "2025-09-22T14:51:02.879993Z",
     "iopub.status.busy": "2025-09-22T14:51:02.879727Z",
     "iopub.status.idle": "2025-09-22T14:51:02.990836Z",
     "shell.execute_reply": "2025-09-22T14:51:02.989972Z"
    }
   },
   "outputs": [],
   "source": [
    "import numpy as np"
   ]
  },
  {
   "cell_type": "code",
   "execution_count": 2,
   "metadata": {
    "execution": {
     "iopub.execute_input": "2025-09-22T14:51:02.994055Z",
     "iopub.status.busy": "2025-09-22T14:51:02.993626Z",
     "iopub.status.idle": "2025-09-22T14:51:03.003678Z",
     "shell.execute_reply": "2025-09-22T14:51:03.002762Z"
    }
   },
   "outputs": [
    {
     "data": {
      "text/plain": [
       "'2.3.3'"
      ]
     },
     "execution_count": 2,
     "metadata": {},
     "output_type": "execute_result"
    }
   ],
   "source": [
    "np.__version__"
   ]
  },
  {
   "cell_type": "code",
   "execution_count": 3,
   "metadata": {
    "execution": {
     "iopub.execute_input": "2025-09-22T14:51:03.063789Z",
     "iopub.status.busy": "2025-09-22T14:51:03.063564Z",
     "iopub.status.idle": "2025-09-22T14:51:03.068227Z",
     "shell.execute_reply": "2025-09-22T14:51:03.067291Z"
    }
   },
   "outputs": [
    {
     "data": {
      "text/plain": [
       "[1, 2, 3]"
      ]
     },
     "execution_count": 3,
     "metadata": {},
     "output_type": "execute_result"
    }
   ],
   "source": [
    "p_list = [1, 2, 3]\n",
    "p_list"
   ]
  },
  {
   "cell_type": "code",
   "execution_count": 4,
   "metadata": {
    "execution": {
     "iopub.execute_input": "2025-09-22T14:51:03.070792Z",
     "iopub.status.busy": "2025-09-22T14:51:03.070443Z",
     "iopub.status.idle": "2025-09-22T14:51:03.074630Z",
     "shell.execute_reply": "2025-09-22T14:51:03.073442Z"
    }
   },
   "outputs": [],
   "source": [
    "np_1d = np.array(p_list)"
   ]
  },
  {
   "cell_type": "code",
   "execution_count": 5,
   "metadata": {
    "execution": {
     "iopub.execute_input": "2025-09-22T14:51:03.078343Z",
     "iopub.status.busy": "2025-09-22T14:51:03.078039Z",
     "iopub.status.idle": "2025-09-22T14:51:03.082839Z",
     "shell.execute_reply": "2025-09-22T14:51:03.082055Z"
    }
   },
   "outputs": [
    {
     "data": {
      "text/plain": [
       "array([1, 2, 3])"
      ]
     },
     "execution_count": 5,
     "metadata": {},
     "output_type": "execute_result"
    }
   ],
   "source": [
    "np_1d"
   ]
  },
  {
   "cell_type": "markdown",
   "metadata": {},
   "source": [
    "look for the type"
   ]
  },
  {
   "cell_type": "code",
   "execution_count": 6,
   "metadata": {
    "execution": {
     "iopub.execute_input": "2025-09-22T14:51:03.085471Z",
     "iopub.status.busy": "2025-09-22T14:51:03.085156Z",
     "iopub.status.idle": "2025-09-22T14:51:03.090536Z",
     "shell.execute_reply": "2025-09-22T14:51:03.089423Z"
    }
   },
   "outputs": [
    {
     "data": {
      "text/plain": [
       "list"
      ]
     },
     "execution_count": 6,
     "metadata": {},
     "output_type": "execute_result"
    }
   ],
   "source": [
    "type(p_list)"
   ]
  },
  {
   "cell_type": "code",
   "execution_count": 7,
   "metadata": {
    "execution": {
     "iopub.execute_input": "2025-09-22T14:51:03.093890Z",
     "iopub.status.busy": "2025-09-22T14:51:03.093541Z",
     "iopub.status.idle": "2025-09-22T14:51:03.099229Z",
     "shell.execute_reply": "2025-09-22T14:51:03.098210Z"
    }
   },
   "outputs": [
    {
     "data": {
      "text/plain": [
       "numpy.ndarray"
      ]
     },
     "execution_count": 7,
     "metadata": {},
     "output_type": "execute_result"
    }
   ],
   "source": [
    "type(np_1d)"
   ]
  },
  {
   "cell_type": "code",
   "execution_count": 8,
   "metadata": {
    "execution": {
     "iopub.execute_input": "2025-09-22T14:51:03.103996Z",
     "iopub.status.busy": "2025-09-22T14:51:03.103171Z",
     "iopub.status.idle": "2025-09-22T14:51:03.115881Z",
     "shell.execute_reply": "2025-09-22T14:51:03.114419Z"
    }
   },
   "outputs": [
    {
     "data": {
      "text/plain": [
       "[[1, 2, 3], [4, 5, 6], [7, 8, 9]]"
      ]
     },
     "execution_count": 8,
     "metadata": {},
     "output_type": "execute_result"
    }
   ],
   "source": [
    "p_matrix = [[1,2,3],[4,5,6],[7,8,9]]\n",
    "p_matrix"
   ]
  },
  {
   "cell_type": "code",
   "execution_count": 9,
   "metadata": {
    "execution": {
     "iopub.execute_input": "2025-09-22T14:51:03.117970Z",
     "iopub.status.busy": "2025-09-22T14:51:03.117746Z",
     "iopub.status.idle": "2025-09-22T14:51:03.122611Z",
     "shell.execute_reply": "2025-09-22T14:51:03.121785Z"
    },
    "scrolled": true
   },
   "outputs": [
    {
     "data": {
      "text/plain": [
       "array([[1, 2, 3],\n",
       "       [4, 5, 6],\n",
       "       [7, 8, 9]])"
      ]
     },
     "execution_count": 9,
     "metadata": {},
     "output_type": "execute_result"
    }
   ],
   "source": [
    "np_matrix = np.array(p_matrix)\n",
    "np_matrix"
   ]
  },
  {
   "cell_type": "markdown",
   "metadata": {},
   "source": [
    "### Using built-in methods"
   ]
  },
  {
   "cell_type": "code",
   "execution_count": 10,
   "metadata": {
    "execution": {
     "iopub.execute_input": "2025-09-22T14:51:03.128365Z",
     "iopub.status.busy": "2025-09-22T14:51:03.127985Z",
     "iopub.status.idle": "2025-09-22T14:51:03.133707Z",
     "shell.execute_reply": "2025-09-22T14:51:03.132896Z"
    }
   },
   "outputs": [
    {
     "data": {
      "text/plain": [
       "array([0, 1, 2, 3, 4, 5, 6, 7, 8, 9])"
      ]
     },
     "execution_count": 10,
     "metadata": {},
     "output_type": "execute_result"
    }
   ],
   "source": [
    "np.arange(0, 10) # start, stop"
   ]
  },
  {
   "cell_type": "code",
   "execution_count": 11,
   "metadata": {
    "execution": {
     "iopub.execute_input": "2025-09-22T14:51:03.136338Z",
     "iopub.status.busy": "2025-09-22T14:51:03.136141Z",
     "iopub.status.idle": "2025-09-22T14:51:03.143899Z",
     "shell.execute_reply": "2025-09-22T14:51:03.140706Z"
    }
   },
   "outputs": [
    {
     "data": {
      "text/plain": [
       "array([0, 2, 4, 6, 8])"
      ]
     },
     "execution_count": 11,
     "metadata": {},
     "output_type": "execute_result"
    }
   ],
   "source": [
    "np.arange(0, 10, 2) # start, stop, step"
   ]
  },
  {
   "cell_type": "code",
   "execution_count": 12,
   "metadata": {
    "execution": {
     "iopub.execute_input": "2025-09-22T14:51:03.146061Z",
     "iopub.status.busy": "2025-09-22T14:51:03.145873Z",
     "iopub.status.idle": "2025-09-22T14:51:03.149922Z",
     "shell.execute_reply": "2025-09-22T14:51:03.149321Z"
    }
   },
   "outputs": [
    {
     "data": {
      "text/plain": [
       "array([0., 0., 0.])"
      ]
     },
     "execution_count": 12,
     "metadata": {},
     "output_type": "execute_result"
    }
   ],
   "source": [
    "np.zeros(3) # 1D"
   ]
  },
  {
   "cell_type": "code",
   "execution_count": 13,
   "metadata": {
    "execution": {
     "iopub.execute_input": "2025-09-22T14:51:03.151607Z",
     "iopub.status.busy": "2025-09-22T14:51:03.151424Z",
     "iopub.status.idle": "2025-09-22T14:51:03.155602Z",
     "shell.execute_reply": "2025-09-22T14:51:03.154641Z"
    }
   },
   "outputs": [
    {
     "data": {
      "text/plain": [
       "array([[0., 0., 0., 0., 0.],\n",
       "       [0., 0., 0., 0., 0.],\n",
       "       [0., 0., 0., 0., 0.]])"
      ]
     },
     "execution_count": 13,
     "metadata": {},
     "output_type": "execute_result"
    }
   ],
   "source": [
    "np.zeros((3, 5)) # 2D"
   ]
  },
  {
   "cell_type": "code",
   "execution_count": 14,
   "metadata": {
    "execution": {
     "iopub.execute_input": "2025-09-22T14:51:03.160170Z",
     "iopub.status.busy": "2025-09-22T14:51:03.159939Z",
     "iopub.status.idle": "2025-09-22T14:51:03.165295Z",
     "shell.execute_reply": "2025-09-22T14:51:03.164512Z"
    }
   },
   "outputs": [
    {
     "data": {
      "text/plain": [
       "array([ 0.        ,  0.20408163,  0.40816327,  0.6122449 ,  0.81632653,\n",
       "        1.02040816,  1.2244898 ,  1.42857143,  1.63265306,  1.83673469,\n",
       "        2.04081633,  2.24489796,  2.44897959,  2.65306122,  2.85714286,\n",
       "        3.06122449,  3.26530612,  3.46938776,  3.67346939,  3.87755102,\n",
       "        4.08163265,  4.28571429,  4.48979592,  4.69387755,  4.89795918,\n",
       "        5.10204082,  5.30612245,  5.51020408,  5.71428571,  5.91836735,\n",
       "        6.12244898,  6.32653061,  6.53061224,  6.73469388,  6.93877551,\n",
       "        7.14285714,  7.34693878,  7.55102041,  7.75510204,  7.95918367,\n",
       "        8.16326531,  8.36734694,  8.57142857,  8.7755102 ,  8.97959184,\n",
       "        9.18367347,  9.3877551 ,  9.59183673,  9.79591837, 10.        ])"
      ]
     },
     "execution_count": 14,
     "metadata": {},
     "output_type": "execute_result"
    }
   ],
   "source": [
    "np.linspace(0, 10, 50) # start, stop, number of elements"
   ]
  },
  {
   "cell_type": "markdown",
   "metadata": {},
   "source": [
    "## Random value generation"
   ]
  },
  {
   "cell_type": "markdown",
   "metadata": {},
   "source": [
    "### one value from range 0..1"
   ]
  },
  {
   "cell_type": "code",
   "execution_count": 15,
   "metadata": {
    "execution": {
     "iopub.execute_input": "2025-09-22T14:51:03.167453Z",
     "iopub.status.busy": "2025-09-22T14:51:03.167243Z",
     "iopub.status.idle": "2025-09-22T14:51:03.180678Z",
     "shell.execute_reply": "2025-09-22T14:51:03.180038Z"
    }
   },
   "outputs": [
    {
     "data": {
      "text/plain": [
       "0.7143491712434089"
      ]
     },
     "execution_count": 15,
     "metadata": {},
     "output_type": "execute_result"
    }
   ],
   "source": [
    "rng = np.random.default_rng()\n",
    "rng.random()"
   ]
  },
  {
   "cell_type": "markdown",
   "metadata": {},
   "source": [
    "## uniform sequence\n",
    "Return an array of the given shape with random samples from a uniform distribution"
   ]
  },
  {
   "cell_type": "code",
   "execution_count": 16,
   "metadata": {
    "execution": {
     "iopub.execute_input": "2025-09-22T14:51:03.182709Z",
     "iopub.status.busy": "2025-09-22T14:51:03.182475Z",
     "iopub.status.idle": "2025-09-22T14:51:03.188707Z",
     "shell.execute_reply": "2025-09-22T14:51:03.186394Z"
    }
   },
   "outputs": [
    {
     "data": {
      "text/plain": [
       "array([0.7732849 , 0.18986942, 0.72657236, 0.33551298, 0.79567996,\n",
       "       0.97768199, 0.52252365, 0.52708567, 0.82895121, 0.30685281])"
      ]
     },
     "execution_count": 16,
     "metadata": {},
     "output_type": "execute_result"
    }
   ],
   "source": [
    "np.random.uniform(0, 1, 10) # (low, high, size)"
   ]
  },
  {
   "cell_type": "markdown",
   "metadata": {},
   "source": [
    "### randn\n",
    "Return samples from the “standard normal” distribution."
   ]
  },
  {
   "cell_type": "code",
   "execution_count": 17,
   "metadata": {
    "execution": {
     "iopub.execute_input": "2025-09-22T14:51:03.191866Z",
     "iopub.status.busy": "2025-09-22T14:51:03.191675Z",
     "iopub.status.idle": "2025-09-22T14:51:03.196059Z",
     "shell.execute_reply": "2025-09-22T14:51:03.195387Z"
    }
   },
   "outputs": [
    {
     "data": {
      "text/plain": [
       "array([[-0.83562055,  0.78323644],\n",
       "       [ 0.02160225,  0.41066126]])"
      ]
     },
     "execution_count": 17,
     "metadata": {},
     "output_type": "execute_result"
    }
   ],
   "source": [
    "np.random.randn(2,2) # standard normal (Gaussian) distribution of mean 0 and variance 1"
   ]
  },
  {
   "cell_type": "markdown",
   "metadata": {},
   "source": [
    "### normal"
   ]
  },
  {
   "cell_type": "code",
   "execution_count": 18,
   "metadata": {
    "execution": {
     "iopub.execute_input": "2025-09-22T14:51:03.198185Z",
     "iopub.status.busy": "2025-09-22T14:51:03.197998Z",
     "iopub.status.idle": "2025-09-22T14:51:03.202411Z",
     "shell.execute_reply": "2025-09-22T14:51:03.201509Z"
    }
   },
   "outputs": [
    {
     "data": {
      "text/plain": [
       "array([[1.51441919, 0.95959365],\n",
       "       [1.02341195, 1.19676722],\n",
       "       [1.6222956 , 0.71652628]])"
      ]
     },
     "execution_count": 18,
     "metadata": {},
     "output_type": "execute_result"
    }
   ],
   "source": [
    "mu, sigma = 1, 0.5 # mean and standard deviation\n",
    "np.random.normal(mu, sigma, size = (3, 2))"
   ]
  },
  {
   "cell_type": "markdown",
   "metadata": {},
   "source": [
    "### multivariate normal"
   ]
  },
  {
   "cell_type": "code",
   "execution_count": 19,
   "metadata": {
    "execution": {
     "iopub.execute_input": "2025-09-22T14:51:03.206896Z",
     "iopub.status.busy": "2025-09-22T14:51:03.206688Z",
     "iopub.status.idle": "2025-09-22T14:51:03.211449Z",
     "shell.execute_reply": "2025-09-22T14:51:03.210817Z"
    }
   },
   "outputs": [
    {
     "data": {
      "text/plain": [
       "array([[[2.36430651, 1.9477284 ],\n",
       "        [3.17937201, 1.79484555]],\n",
       "\n",
       "       [[1.72847702, 2.62131515],\n",
       "        [0.87254833, 1.57128946]],\n",
       "\n",
       "       [[0.07794872, 2.24376154],\n",
       "        [0.3515523 , 1.49447679]]])"
      ]
     },
     "execution_count": 19,
     "metadata": {},
     "output_type": "execute_result"
    }
   ],
   "source": [
    "mean = [1, 2]\n",
    "cov = [[1, 0], [0, 1]]\n",
    "np.random.multivariate_normal(mean, cov, size= (3, 2))"
   ]
  },
  {
   "cell_type": "markdown",
   "metadata": {},
   "source": [
    "### randint\n",
    "Return random integers "
   ]
  },
  {
   "cell_type": "code",
   "execution_count": 20,
   "metadata": {
    "execution": {
     "iopub.execute_input": "2025-09-22T14:51:03.213664Z",
     "iopub.status.busy": "2025-09-22T14:51:03.213398Z",
     "iopub.status.idle": "2025-09-22T14:51:03.218075Z",
     "shell.execute_reply": "2025-09-22T14:51:03.216938Z"
    }
   },
   "outputs": [
    {
     "data": {
      "text/plain": [
       "array([62,  4, 65, 77, 81])"
      ]
     },
     "execution_count": 20,
     "metadata": {},
     "output_type": "execute_result"
    }
   ],
   "source": [
    "np.random.randint(1, 100, 5) # randint(low, high=None, size=None)"
   ]
  },
  {
   "cell_type": "markdown",
   "metadata": {},
   "source": [
    "### seed()\n",
    "The seed() method is used to initialize the random number generator."
   ]
  },
  {
   "cell_type": "code",
   "execution_count": 21,
   "metadata": {
    "execution": {
     "iopub.execute_input": "2025-09-22T14:51:03.222071Z",
     "iopub.status.busy": "2025-09-22T14:51:03.221867Z",
     "iopub.status.idle": "2025-09-22T14:51:03.225496Z",
     "shell.execute_reply": "2025-09-22T14:51:03.224667Z"
    }
   },
   "outputs": [],
   "source": [
    "np.random.seed(0)  "
   ]
  },
  {
   "cell_type": "markdown",
   "metadata": {},
   "source": [
    "### Operations"
   ]
  },
  {
   "cell_type": "code",
   "execution_count": 22,
   "metadata": {
    "execution": {
     "iopub.execute_input": "2025-09-22T14:51:03.227857Z",
     "iopub.status.busy": "2025-09-22T14:51:03.227602Z",
     "iopub.status.idle": "2025-09-22T14:51:03.232314Z",
     "shell.execute_reply": "2025-09-22T14:51:03.231640Z"
    }
   },
   "outputs": [
    {
     "data": {
      "text/plain": [
       "array([0, 1, 2, 3, 4, 5, 6, 7, 8, 9])"
      ]
     },
     "execution_count": 22,
     "metadata": {},
     "output_type": "execute_result"
    }
   ],
   "source": [
    "a1d = np.arange(0, 10)\n",
    "a1d"
   ]
  },
  {
   "cell_type": "code",
   "execution_count": 23,
   "metadata": {
    "execution": {
     "iopub.execute_input": "2025-09-22T14:51:03.237913Z",
     "iopub.status.busy": "2025-09-22T14:51:03.237591Z",
     "iopub.status.idle": "2025-09-22T14:51:03.242184Z",
     "shell.execute_reply": "2025-09-22T14:51:03.241394Z"
    }
   },
   "outputs": [
    {
     "data": {
      "text/plain": [
       "array([[0, 1, 2, 3, 4],\n",
       "       [5, 6, 7, 8, 9]])"
      ]
     },
     "execution_count": 23,
     "metadata": {},
     "output_type": "execute_result"
    }
   ],
   "source": [
    "a2d = a1d.reshape(2, 5) # https://numpy.org/doc/stable/reference/generated/numpy.reshape.html#numpy-reshape\n",
    "a2d"
   ]
  },
  {
   "cell_type": "code",
   "execution_count": 24,
   "metadata": {
    "execution": {
     "iopub.execute_input": "2025-09-22T14:51:03.243998Z",
     "iopub.status.busy": "2025-09-22T14:51:03.243807Z",
     "iopub.status.idle": "2025-09-22T14:51:03.248140Z",
     "shell.execute_reply": "2025-09-22T14:51:03.247438Z"
    }
   },
   "outputs": [
    {
     "data": {
      "text/plain": [
       "array([45, 48, 65, 68, 68, 10, 84, 22, 37, 88])"
      ]
     },
     "execution_count": 24,
     "metadata": {},
     "output_type": "execute_result"
    }
   ],
   "source": [
    "xs = np.random.randint(1, 100, 10)\n",
    "xs"
   ]
  },
  {
   "cell_type": "code",
   "execution_count": 25,
   "metadata": {
    "execution": {
     "iopub.execute_input": "2025-09-22T14:51:03.252876Z",
     "iopub.status.busy": "2025-09-22T14:51:03.252583Z",
     "iopub.status.idle": "2025-09-22T14:51:03.256846Z",
     "shell.execute_reply": "2025-09-22T14:51:03.256120Z"
    }
   },
   "outputs": [
    {
     "data": {
      "text/plain": [
       "np.float64(53.5)"
      ]
     },
     "execution_count": 25,
     "metadata": {},
     "output_type": "execute_result"
    }
   ],
   "source": [
    "xs.mean()"
   ]
  },
  {
   "cell_type": "code",
   "execution_count": 26,
   "metadata": {
    "execution": {
     "iopub.execute_input": "2025-09-22T14:51:03.259113Z",
     "iopub.status.busy": "2025-09-22T14:51:03.258916Z",
     "iopub.status.idle": "2025-09-22T14:51:03.263214Z",
     "shell.execute_reply": "2025-09-22T14:51:03.262571Z"
    }
   },
   "outputs": [
    {
     "data": {
      "text/plain": [
       "np.int64(88)"
      ]
     },
     "execution_count": 26,
     "metadata": {},
     "output_type": "execute_result"
    }
   ],
   "source": [
    "xs.max() # value"
   ]
  },
  {
   "cell_type": "code",
   "execution_count": 27,
   "metadata": {
    "execution": {
     "iopub.execute_input": "2025-09-22T14:51:03.268290Z",
     "iopub.status.busy": "2025-09-22T14:51:03.267076Z",
     "iopub.status.idle": "2025-09-22T14:51:03.273267Z",
     "shell.execute_reply": "2025-09-22T14:51:03.272595Z"
    }
   },
   "outputs": [
    {
     "data": {
      "text/plain": [
       "np.int64(9)"
      ]
     },
     "execution_count": 27,
     "metadata": {},
     "output_type": "execute_result"
    }
   ],
   "source": [
    "xs.argmax() # index"
   ]
  },
  {
   "cell_type": "code",
   "execution_count": 28,
   "metadata": {
    "execution": {
     "iopub.execute_input": "2025-09-22T14:51:03.275103Z",
     "iopub.status.busy": "2025-09-22T14:51:03.274924Z",
     "iopub.status.idle": "2025-09-22T14:51:03.278537Z",
     "shell.execute_reply": "2025-09-22T14:51:03.277497Z"
    }
   },
   "outputs": [],
   "source": [
    "xs1 = np.array([1, 2, 3])\n",
    "xs2 = np.array([4, 5, 6])"
   ]
  },
  {
   "cell_type": "code",
   "execution_count": 29,
   "metadata": {
    "execution": {
     "iopub.execute_input": "2025-09-22T14:51:03.283751Z",
     "iopub.status.busy": "2025-09-22T14:51:03.283010Z",
     "iopub.status.idle": "2025-09-22T14:51:03.288909Z",
     "shell.execute_reply": "2025-09-22T14:51:03.288042Z"
    }
   },
   "outputs": [
    {
     "data": {
      "text/plain": [
       "array([5, 7, 9])"
      ]
     },
     "execution_count": 29,
     "metadata": {},
     "output_type": "execute_result"
    }
   ],
   "source": [
    "xs1 + xs2 # must have the same length"
   ]
  },
  {
   "cell_type": "code",
   "execution_count": 30,
   "metadata": {
    "execution": {
     "iopub.execute_input": "2025-09-22T14:51:03.291753Z",
     "iopub.status.busy": "2025-09-22T14:51:03.291505Z",
     "iopub.status.idle": "2025-09-22T14:51:03.296004Z",
     "shell.execute_reply": "2025-09-22T14:51:03.295212Z"
    }
   },
   "outputs": [
    {
     "data": {
      "text/plain": [
       "array([ 4, 10, 18])"
      ]
     },
     "execution_count": 30,
     "metadata": {},
     "output_type": "execute_result"
    }
   ],
   "source": [
    "xs1 * xs2 # must have the same length"
   ]
  },
  {
   "cell_type": "code",
   "execution_count": 31,
   "metadata": {
    "execution": {
     "iopub.execute_input": "2025-09-22T14:51:03.298161Z",
     "iopub.status.busy": "2025-09-22T14:51:03.297943Z",
     "iopub.status.idle": "2025-09-22T14:51:03.302533Z",
     "shell.execute_reply": "2025-09-22T14:51:03.301801Z"
    }
   },
   "outputs": [
    {
     "data": {
      "text/plain": [
       "array([ 2.71828183,  7.3890561 , 20.08553692])"
      ]
     },
     "execution_count": 31,
     "metadata": {},
     "output_type": "execute_result"
    }
   ],
   "source": [
    "np.exp(xs1)"
   ]
  },
  {
   "cell_type": "code",
   "execution_count": 32,
   "metadata": {
    "execution": {
     "iopub.execute_input": "2025-09-22T14:51:03.304531Z",
     "iopub.status.busy": "2025-09-22T14:51:03.304348Z",
     "iopub.status.idle": "2025-09-22T14:51:03.308832Z",
     "shell.execute_reply": "2025-09-22T14:51:03.307568Z"
    }
   },
   "outputs": [
    {
     "data": {
      "text/plain": [
       "array([0.        , 0.69314718, 1.09861229])"
      ]
     },
     "execution_count": 32,
     "metadata": {},
     "output_type": "execute_result"
    }
   ],
   "source": [
    "np.log(xs1)"
   ]
  }
 ],
 "metadata": {
  "kernelspec": {
   "display_name": "Python 3 (ipykernel)",
   "language": "python",
   "name": "python3"
  },
  "language_info": {
   "codemirror_mode": {
    "name": "ipython",
    "version": 3
   },
   "file_extension": ".py",
   "mimetype": "text/x-python",
   "name": "python",
   "nbconvert_exporter": "python",
   "pygments_lexer": "ipython3",
   "version": "3.13.7"
  }
 },
 "nbformat": 4,
 "nbformat_minor": 4
}
