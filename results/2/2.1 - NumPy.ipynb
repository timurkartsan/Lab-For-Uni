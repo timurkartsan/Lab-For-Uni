{
 "cells": [
  {
   "cell_type": "code",
   "execution_count": 1,
   "metadata": {
    "execution": {
     "iopub.execute_input": "2025-09-27T21:28:05.029278Z",
     "iopub.status.busy": "2025-09-27T21:28:05.029068Z",
     "iopub.status.idle": "2025-09-27T21:28:05.134768Z",
     "shell.execute_reply": "2025-09-27T21:28:05.133328Z"
    }
   },
   "outputs": [],
   "source": [
    "import numpy as np"
   ]
  },
  {
   "cell_type": "code",
   "execution_count": 2,
   "metadata": {
    "execution": {
     "iopub.execute_input": "2025-09-27T21:28:05.138226Z",
     "iopub.status.busy": "2025-09-27T21:28:05.137982Z",
     "iopub.status.idle": "2025-09-27T21:28:05.144333Z",
     "shell.execute_reply": "2025-09-27T21:28:05.143034Z"
    }
   },
   "outputs": [
    {
     "data": {
      "text/plain": [
       "'2.2.5'"
      ]
     },
     "execution_count": 2,
     "metadata": {},
     "output_type": "execute_result"
    }
   ],
   "source": [
    "np.__version__"
   ]
  },
  {
   "cell_type": "code",
   "execution_count": 3,
   "metadata": {
    "execution": {
     "iopub.execute_input": "2025-09-27T21:28:05.175602Z",
     "iopub.status.busy": "2025-09-27T21:28:05.174967Z",
     "iopub.status.idle": "2025-09-27T21:28:05.180990Z",
     "shell.execute_reply": "2025-09-27T21:28:05.180277Z"
    }
   },
   "outputs": [
    {
     "data": {
      "text/plain": [
       "[1, 2, 3]"
      ]
     },
     "execution_count": 3,
     "metadata": {},
     "output_type": "execute_result"
    }
   ],
   "source": [
    "p_list = [1, 2, 3]\n",
    "p_list"
   ]
  },
  {
   "cell_type": "code",
   "execution_count": 4,
   "metadata": {
    "execution": {
     "iopub.execute_input": "2025-09-27T21:28:05.183446Z",
     "iopub.status.busy": "2025-09-27T21:28:05.183238Z",
     "iopub.status.idle": "2025-09-27T21:28:05.186876Z",
     "shell.execute_reply": "2025-09-27T21:28:05.185926Z"
    }
   },
   "outputs": [],
   "source": [
    "np_1d = np.array(p_list)"
   ]
  },
  {
   "cell_type": "code",
   "execution_count": 5,
   "metadata": {
    "execution": {
     "iopub.execute_input": "2025-09-27T21:28:05.189381Z",
     "iopub.status.busy": "2025-09-27T21:28:05.189196Z",
     "iopub.status.idle": "2025-09-27T21:28:05.194094Z",
     "shell.execute_reply": "2025-09-27T21:28:05.193276Z"
    }
   },
   "outputs": [
    {
     "data": {
      "text/plain": [
       "array([1, 2, 3])"
      ]
     },
     "execution_count": 5,
     "metadata": {},
     "output_type": "execute_result"
    }
   ],
   "source": [
    "np_1d"
   ]
  },
  {
   "cell_type": "markdown",
   "metadata": {},
   "source": [
    "look for the type"
   ]
  },
  {
   "cell_type": "code",
   "execution_count": 6,
   "metadata": {
    "execution": {
     "iopub.execute_input": "2025-09-27T21:28:05.196751Z",
     "iopub.status.busy": "2025-09-27T21:28:05.196523Z",
     "iopub.status.idle": "2025-09-27T21:28:05.200370Z",
     "shell.execute_reply": "2025-09-27T21:28:05.199783Z"
    }
   },
   "outputs": [
    {
     "data": {
      "text/plain": [
       "list"
      ]
     },
     "execution_count": 6,
     "metadata": {},
     "output_type": "execute_result"
    }
   ],
   "source": [
    "type(p_list)"
   ]
  },
  {
   "cell_type": "code",
   "execution_count": 7,
   "metadata": {
    "execution": {
     "iopub.execute_input": "2025-09-27T21:28:05.202851Z",
     "iopub.status.busy": "2025-09-27T21:28:05.202479Z",
     "iopub.status.idle": "2025-09-27T21:28:05.206745Z",
     "shell.execute_reply": "2025-09-27T21:28:05.206311Z"
    }
   },
   "outputs": [
    {
     "data": {
      "text/plain": [
       "numpy.ndarray"
      ]
     },
     "execution_count": 7,
     "metadata": {},
     "output_type": "execute_result"
    }
   ],
   "source": [
    "type(np_1d)"
   ]
  },
  {
   "cell_type": "code",
   "execution_count": 8,
   "metadata": {
    "execution": {
     "iopub.execute_input": "2025-09-27T21:28:05.209681Z",
     "iopub.status.busy": "2025-09-27T21:28:05.209254Z",
     "iopub.status.idle": "2025-09-27T21:28:05.214178Z",
     "shell.execute_reply": "2025-09-27T21:28:05.213535Z"
    }
   },
   "outputs": [
    {
     "data": {
      "text/plain": [
       "[[1, 2, 3], [4, 5, 6], [7, 8, 9]]"
      ]
     },
     "execution_count": 8,
     "metadata": {},
     "output_type": "execute_result"
    }
   ],
   "source": [
    "p_matrix = [[1,2,3],[4,5,6],[7,8,9]]\n",
    "p_matrix"
   ]
  },
  {
   "cell_type": "code",
   "execution_count": 9,
   "metadata": {
    "execution": {
     "iopub.execute_input": "2025-09-27T21:28:05.217590Z",
     "iopub.status.busy": "2025-09-27T21:28:05.217296Z",
     "iopub.status.idle": "2025-09-27T21:28:05.222386Z",
     "shell.execute_reply": "2025-09-27T21:28:05.221789Z"
    },
    "scrolled": true
   },
   "outputs": [
    {
     "data": {
      "text/plain": [
       "array([[1, 2, 3],\n",
       "       [4, 5, 6],\n",
       "       [7, 8, 9]])"
      ]
     },
     "execution_count": 9,
     "metadata": {},
     "output_type": "execute_result"
    }
   ],
   "source": [
    "np_matrix = np.array(p_matrix)\n",
    "np_matrix"
   ]
  },
  {
   "cell_type": "markdown",
   "metadata": {},
   "source": [
    "### Using built-in methods"
   ]
  },
  {
   "cell_type": "code",
   "execution_count": 10,
   "metadata": {
    "execution": {
     "iopub.execute_input": "2025-09-27T21:28:05.225394Z",
     "iopub.status.busy": "2025-09-27T21:28:05.224829Z",
     "iopub.status.idle": "2025-09-27T21:28:05.231870Z",
     "shell.execute_reply": "2025-09-27T21:28:05.231202Z"
    }
   },
   "outputs": [
    {
     "data": {
      "text/plain": [
       "array([0, 1, 2, 3, 4, 5, 6, 7, 8, 9])"
      ]
     },
     "execution_count": 10,
     "metadata": {},
     "output_type": "execute_result"
    }
   ],
   "source": [
    "np.arange(0, 10) # start, stop"
   ]
  },
  {
   "cell_type": "code",
   "execution_count": 11,
   "metadata": {
    "execution": {
     "iopub.execute_input": "2025-09-27T21:28:05.233785Z",
     "iopub.status.busy": "2025-09-27T21:28:05.233614Z",
     "iopub.status.idle": "2025-09-27T21:28:05.237411Z",
     "shell.execute_reply": "2025-09-27T21:28:05.236950Z"
    }
   },
   "outputs": [
    {
     "data": {
      "text/plain": [
       "array([0, 2, 4, 6, 8])"
      ]
     },
     "execution_count": 11,
     "metadata": {},
     "output_type": "execute_result"
    }
   ],
   "source": [
    "np.arange(0, 10, 2) # start, stop, step"
   ]
  },
  {
   "cell_type": "code",
   "execution_count": 12,
   "metadata": {
    "execution": {
     "iopub.execute_input": "2025-09-27T21:28:05.239461Z",
     "iopub.status.busy": "2025-09-27T21:28:05.239250Z",
     "iopub.status.idle": "2025-09-27T21:28:05.244869Z",
     "shell.execute_reply": "2025-09-27T21:28:05.243989Z"
    }
   },
   "outputs": [
    {
     "data": {
      "text/plain": [
       "array([0., 0., 0.])"
      ]
     },
     "execution_count": 12,
     "metadata": {},
     "output_type": "execute_result"
    }
   ],
   "source": [
    "np.zeros(3) # 1D"
   ]
  },
  {
   "cell_type": "code",
   "execution_count": 13,
   "metadata": {
    "execution": {
     "iopub.execute_input": "2025-09-27T21:28:05.247129Z",
     "iopub.status.busy": "2025-09-27T21:28:05.246941Z",
     "iopub.status.idle": "2025-09-27T21:28:05.250886Z",
     "shell.execute_reply": "2025-09-27T21:28:05.250483Z"
    }
   },
   "outputs": [
    {
     "data": {
      "text/plain": [
       "array([[0., 0., 0., 0., 0.],\n",
       "       [0., 0., 0., 0., 0.],\n",
       "       [0., 0., 0., 0., 0.]])"
      ]
     },
     "execution_count": 13,
     "metadata": {},
     "output_type": "execute_result"
    }
   ],
   "source": [
    "np.zeros((3, 5)) # 2D"
   ]
  },
  {
   "cell_type": "code",
   "execution_count": 14,
   "metadata": {
    "execution": {
     "iopub.execute_input": "2025-09-27T21:28:05.253314Z",
     "iopub.status.busy": "2025-09-27T21:28:05.253069Z",
     "iopub.status.idle": "2025-09-27T21:28:05.257703Z",
     "shell.execute_reply": "2025-09-27T21:28:05.257125Z"
    }
   },
   "outputs": [
    {
     "data": {
      "text/plain": [
       "array([ 0.        ,  0.20408163,  0.40816327,  0.6122449 ,  0.81632653,\n",
       "        1.02040816,  1.2244898 ,  1.42857143,  1.63265306,  1.83673469,\n",
       "        2.04081633,  2.24489796,  2.44897959,  2.65306122,  2.85714286,\n",
       "        3.06122449,  3.26530612,  3.46938776,  3.67346939,  3.87755102,\n",
       "        4.08163265,  4.28571429,  4.48979592,  4.69387755,  4.89795918,\n",
       "        5.10204082,  5.30612245,  5.51020408,  5.71428571,  5.91836735,\n",
       "        6.12244898,  6.32653061,  6.53061224,  6.73469388,  6.93877551,\n",
       "        7.14285714,  7.34693878,  7.55102041,  7.75510204,  7.95918367,\n",
       "        8.16326531,  8.36734694,  8.57142857,  8.7755102 ,  8.97959184,\n",
       "        9.18367347,  9.3877551 ,  9.59183673,  9.79591837, 10.        ])"
      ]
     },
     "execution_count": 14,
     "metadata": {},
     "output_type": "execute_result"
    }
   ],
   "source": [
    "np.linspace(0, 10, 50) # start, stop, number of elements"
   ]
  },
  {
   "cell_type": "markdown",
   "metadata": {},
   "source": [
    "## Random value generation"
   ]
  },
  {
   "cell_type": "markdown",
   "metadata": {},
   "source": [
    "### one value from range 0..1"
   ]
  },
  {
   "cell_type": "code",
   "execution_count": 15,
   "metadata": {
    "execution": {
     "iopub.execute_input": "2025-09-27T21:28:05.261823Z",
     "iopub.status.busy": "2025-09-27T21:28:05.261609Z",
     "iopub.status.idle": "2025-09-27T21:28:05.276383Z",
     "shell.execute_reply": "2025-09-27T21:28:05.275158Z"
    }
   },
   "outputs": [
    {
     "data": {
      "text/plain": [
       "0.3815987177165475"
      ]
     },
     "execution_count": 15,
     "metadata": {},
     "output_type": "execute_result"
    }
   ],
   "source": [
    "rng = np.random.default_rng()\n",
    "rng.random()"
   ]
  },
  {
   "cell_type": "markdown",
   "metadata": {},
   "source": [
    "## uniform sequence\n",
    "Return an array of the given shape with random samples from a uniform distribution"
   ]
  },
  {
   "cell_type": "code",
   "execution_count": 16,
   "metadata": {
    "execution": {
     "iopub.execute_input": "2025-09-27T21:28:05.279305Z",
     "iopub.status.busy": "2025-09-27T21:28:05.279084Z",
     "iopub.status.idle": "2025-09-27T21:28:05.283889Z",
     "shell.execute_reply": "2025-09-27T21:28:05.283164Z"
    }
   },
   "outputs": [
    {
     "data": {
      "text/plain": [
       "array([0.7646086 , 0.85685129, 0.33237445, 0.57601522, 0.55521615,\n",
       "       0.9757094 , 0.75674904, 0.8114875 , 0.5300463 , 0.68528737])"
      ]
     },
     "execution_count": 16,
     "metadata": {},
     "output_type": "execute_result"
    }
   ],
   "source": [
    "np.random.uniform(0, 1, 10) # (low, high, size)"
   ]
  },
  {
   "cell_type": "markdown",
   "metadata": {},
   "source": [
    "### randn\n",
    "Return samples from the “standard normal” distribution."
   ]
  },
  {
   "cell_type": "code",
   "execution_count": 17,
   "metadata": {
    "execution": {
     "iopub.execute_input": "2025-09-27T21:28:05.286641Z",
     "iopub.status.busy": "2025-09-27T21:28:05.286384Z",
     "iopub.status.idle": "2025-09-27T21:28:05.291444Z",
     "shell.execute_reply": "2025-09-27T21:28:05.290670Z"
    }
   },
   "outputs": [
    {
     "data": {
      "text/plain": [
       "array([[ 1.10720872,  0.1336812 ],\n",
       "       [-0.20639825, -0.7145966 ]])"
      ]
     },
     "execution_count": 17,
     "metadata": {},
     "output_type": "execute_result"
    }
   ],
   "source": [
    "np.random.randn(2,2) # standard normal (Gaussian) distribution of mean 0 and variance 1"
   ]
  },
  {
   "cell_type": "markdown",
   "metadata": {},
   "source": [
    "### normal"
   ]
  },
  {
   "cell_type": "code",
   "execution_count": 18,
   "metadata": {
    "execution": {
     "iopub.execute_input": "2025-09-27T21:28:05.295445Z",
     "iopub.status.busy": "2025-09-27T21:28:05.295248Z",
     "iopub.status.idle": "2025-09-27T21:28:05.299569Z",
     "shell.execute_reply": "2025-09-27T21:28:05.298917Z"
    }
   },
   "outputs": [
    {
     "data": {
      "text/plain": [
       "array([[1.15388856, 1.09781979],\n",
       "       [1.01588365, 0.53017901],\n",
       "       [1.43712571, 2.4717517 ]])"
      ]
     },
     "execution_count": 18,
     "metadata": {},
     "output_type": "execute_result"
    }
   ],
   "source": [
    "mu, sigma = 1, 0.5 # mean and standard deviation\n",
    "np.random.normal(mu, sigma, size = (3, 2))"
   ]
  },
  {
   "cell_type": "markdown",
   "metadata": {},
   "source": [
    "### multivariate normal"
   ]
  },
  {
   "cell_type": "code",
   "execution_count": 19,
   "metadata": {
    "execution": {
     "iopub.execute_input": "2025-09-27T21:28:05.301917Z",
     "iopub.status.busy": "2025-09-27T21:28:05.301713Z",
     "iopub.status.idle": "2025-09-27T21:28:05.307408Z",
     "shell.execute_reply": "2025-09-27T21:28:05.306947Z"
    }
   },
   "outputs": [
    {
     "data": {
      "text/plain": [
       "array([[[1.75972738, 2.48103555],\n",
       "        [0.12753413, 1.62737517]],\n",
       "\n",
       "       [[1.10774796, 2.52406518],\n",
       "        [2.41075811, 1.95465119]],\n",
       "\n",
       "       [[0.07467657, 2.796377  ],\n",
       "        [1.61060653, 2.45062999]]])"
      ]
     },
     "execution_count": 19,
     "metadata": {},
     "output_type": "execute_result"
    }
   ],
   "source": [
    "mean = [1, 2]\n",
    "cov = [[1, 0], [0, 1]]\n",
    "np.random.multivariate_normal(mean, cov, size= (3, 2))"
   ]
  },
  {
   "cell_type": "markdown",
   "metadata": {},
   "source": [
    "### randint\n",
    "Return random integers "
   ]
  },
  {
   "cell_type": "code",
   "execution_count": 20,
   "metadata": {
    "execution": {
     "iopub.execute_input": "2025-09-27T21:28:05.311100Z",
     "iopub.status.busy": "2025-09-27T21:28:05.310870Z",
     "iopub.status.idle": "2025-09-27T21:28:05.315463Z",
     "shell.execute_reply": "2025-09-27T21:28:05.314974Z"
    }
   },
   "outputs": [
    {
     "data": {
      "text/plain": [
       "array([12, 34, 53, 99, 73], dtype=int32)"
      ]
     },
     "execution_count": 20,
     "metadata": {},
     "output_type": "execute_result"
    }
   ],
   "source": [
    "np.random.randint(1, 100, 5) # randint(low, high=None, size=None)"
   ]
  },
  {
   "cell_type": "markdown",
   "metadata": {},
   "source": [
    "### seed()\n",
    "The seed() method is used to initialize the random number generator."
   ]
  },
  {
   "cell_type": "code",
   "execution_count": 21,
   "metadata": {
    "execution": {
     "iopub.execute_input": "2025-09-27T21:28:05.317729Z",
     "iopub.status.busy": "2025-09-27T21:28:05.317549Z",
     "iopub.status.idle": "2025-09-27T21:28:05.320729Z",
     "shell.execute_reply": "2025-09-27T21:28:05.319837Z"
    }
   },
   "outputs": [],
   "source": [
    "np.random.seed(0)  "
   ]
  },
  {
   "cell_type": "markdown",
   "metadata": {},
   "source": [
    "### Operations"
   ]
  },
  {
   "cell_type": "code",
   "execution_count": 22,
   "metadata": {
    "execution": {
     "iopub.execute_input": "2025-09-27T21:28:05.323113Z",
     "iopub.status.busy": "2025-09-27T21:28:05.322918Z",
     "iopub.status.idle": "2025-09-27T21:28:05.328214Z",
     "shell.execute_reply": "2025-09-27T21:28:05.327687Z"
    }
   },
   "outputs": [
    {
     "data": {
      "text/plain": [
       "array([0, 1, 2, 3, 4, 5, 6, 7, 8, 9])"
      ]
     },
     "execution_count": 22,
     "metadata": {},
     "output_type": "execute_result"
    }
   ],
   "source": [
    "a1d = np.arange(0, 10)\n",
    "a1d"
   ]
  },
  {
   "cell_type": "code",
   "execution_count": 23,
   "metadata": {
    "execution": {
     "iopub.execute_input": "2025-09-27T21:28:05.330390Z",
     "iopub.status.busy": "2025-09-27T21:28:05.330226Z",
     "iopub.status.idle": "2025-09-27T21:28:05.334022Z",
     "shell.execute_reply": "2025-09-27T21:28:05.333542Z"
    }
   },
   "outputs": [
    {
     "data": {
      "text/plain": [
       "array([[0, 1, 2, 3, 4],\n",
       "       [5, 6, 7, 8, 9]])"
      ]
     },
     "execution_count": 23,
     "metadata": {},
     "output_type": "execute_result"
    }
   ],
   "source": [
    "a2d = a1d.reshape(2, 5) # https://numpy.org/doc/stable/reference/generated/numpy.reshape.html#numpy-reshape\n",
    "a2d"
   ]
  },
  {
   "cell_type": "code",
   "execution_count": 24,
   "metadata": {
    "execution": {
     "iopub.execute_input": "2025-09-27T21:28:05.336668Z",
     "iopub.status.busy": "2025-09-27T21:28:05.336398Z",
     "iopub.status.idle": "2025-09-27T21:28:05.340207Z",
     "shell.execute_reply": "2025-09-27T21:28:05.339779Z"
    }
   },
   "outputs": [
    {
     "data": {
      "text/plain": [
       "array([45, 48, 65, 68, 68, 10, 84, 22, 37, 88], dtype=int32)"
      ]
     },
     "execution_count": 24,
     "metadata": {},
     "output_type": "execute_result"
    }
   ],
   "source": [
    "xs = np.random.randint(1, 100, 10)\n",
    "xs"
   ]
  },
  {
   "cell_type": "code",
   "execution_count": 25,
   "metadata": {
    "execution": {
     "iopub.execute_input": "2025-09-27T21:28:05.344122Z",
     "iopub.status.busy": "2025-09-27T21:28:05.343816Z",
     "iopub.status.idle": "2025-09-27T21:28:05.347518Z",
     "shell.execute_reply": "2025-09-27T21:28:05.347120Z"
    }
   },
   "outputs": [
    {
     "data": {
      "text/plain": [
       "np.float64(53.5)"
      ]
     },
     "execution_count": 25,
     "metadata": {},
     "output_type": "execute_result"
    }
   ],
   "source": [
    "xs.mean()"
   ]
  },
  {
   "cell_type": "code",
   "execution_count": 26,
   "metadata": {
    "execution": {
     "iopub.execute_input": "2025-09-27T21:28:05.349413Z",
     "iopub.status.busy": "2025-09-27T21:28:05.349245Z",
     "iopub.status.idle": "2025-09-27T21:28:05.353662Z",
     "shell.execute_reply": "2025-09-27T21:28:05.353080Z"
    }
   },
   "outputs": [
    {
     "data": {
      "text/plain": [
       "np.int32(88)"
      ]
     },
     "execution_count": 26,
     "metadata": {},
     "output_type": "execute_result"
    }
   ],
   "source": [
    "xs.max() # value"
   ]
  },
  {
   "cell_type": "code",
   "execution_count": 27,
   "metadata": {
    "execution": {
     "iopub.execute_input": "2025-09-27T21:28:05.355769Z",
     "iopub.status.busy": "2025-09-27T21:28:05.355595Z",
     "iopub.status.idle": "2025-09-27T21:28:05.359452Z",
     "shell.execute_reply": "2025-09-27T21:28:05.358561Z"
    }
   },
   "outputs": [
    {
     "data": {
      "text/plain": [
       "np.int64(9)"
      ]
     },
     "execution_count": 27,
     "metadata": {},
     "output_type": "execute_result"
    }
   ],
   "source": [
    "xs.argmax() # index"
   ]
  },
  {
   "cell_type": "code",
   "execution_count": 28,
   "metadata": {
    "execution": {
     "iopub.execute_input": "2025-09-27T21:28:05.361877Z",
     "iopub.status.busy": "2025-09-27T21:28:05.361688Z",
     "iopub.status.idle": "2025-09-27T21:28:05.365243Z",
     "shell.execute_reply": "2025-09-27T21:28:05.364762Z"
    }
   },
   "outputs": [],
   "source": [
    "xs1 = np.array([1, 2, 3])\n",
    "xs2 = np.array([4, 5, 6])"
   ]
  },
  {
   "cell_type": "code",
   "execution_count": 29,
   "metadata": {
    "execution": {
     "iopub.execute_input": "2025-09-27T21:28:05.367680Z",
     "iopub.status.busy": "2025-09-27T21:28:05.367462Z",
     "iopub.status.idle": "2025-09-27T21:28:05.371720Z",
     "shell.execute_reply": "2025-09-27T21:28:05.371276Z"
    }
   },
   "outputs": [
    {
     "data": {
      "text/plain": [
       "array([5, 7, 9])"
      ]
     },
     "execution_count": 29,
     "metadata": {},
     "output_type": "execute_result"
    }
   ],
   "source": [
    "xs1 + xs2 # must have the same length"
   ]
  },
  {
   "cell_type": "code",
   "execution_count": 30,
   "metadata": {
    "execution": {
     "iopub.execute_input": "2025-09-27T21:28:05.373888Z",
     "iopub.status.busy": "2025-09-27T21:28:05.373690Z",
     "iopub.status.idle": "2025-09-27T21:28:05.379652Z",
     "shell.execute_reply": "2025-09-27T21:28:05.379221Z"
    }
   },
   "outputs": [
    {
     "data": {
      "text/plain": [
       "array([ 4, 10, 18])"
      ]
     },
     "execution_count": 30,
     "metadata": {},
     "output_type": "execute_result"
    }
   ],
   "source": [
    "xs1 * xs2 # must have the same length"
   ]
  },
  {
   "cell_type": "code",
   "execution_count": 31,
   "metadata": {
    "execution": {
     "iopub.execute_input": "2025-09-27T21:28:05.382085Z",
     "iopub.status.busy": "2025-09-27T21:28:05.381880Z",
     "iopub.status.idle": "2025-09-27T21:28:05.385443Z",
     "shell.execute_reply": "2025-09-27T21:28:05.384994Z"
    }
   },
   "outputs": [
    {
     "data": {
      "text/plain": [
       "array([ 2.71828183,  7.3890561 , 20.08553692])"
      ]
     },
     "execution_count": 31,
     "metadata": {},
     "output_type": "execute_result"
    }
   ],
   "source": [
    "np.exp(xs1)"
   ]
  },
  {
   "cell_type": "code",
   "execution_count": 32,
   "metadata": {
    "execution": {
     "iopub.execute_input": "2025-09-27T21:28:05.387877Z",
     "iopub.status.busy": "2025-09-27T21:28:05.387677Z",
     "iopub.status.idle": "2025-09-27T21:28:05.391703Z",
     "shell.execute_reply": "2025-09-27T21:28:05.391113Z"
    }
   },
   "outputs": [
    {
     "data": {
      "text/plain": [
       "array([0.        , 0.69314718, 1.09861229])"
      ]
     },
     "execution_count": 32,
     "metadata": {},
     "output_type": "execute_result"
    }
   ],
   "source": [
    "np.log(xs1)"
   ]
  }
 ],
 "metadata": {
  "kernelspec": {
   "display_name": "Python 3 (ipykernel)",
   "language": "python",
   "name": "python3"
  },
  "language_info": {
   "codemirror_mode": {
    "name": "ipython",
    "version": 3
   },
   "file_extension": ".py",
   "mimetype": "text/x-python",
   "name": "python",
   "nbconvert_exporter": "python",
   "pygments_lexer": "ipython3",
   "version": "3.13.7"
  }
 },
 "nbformat": 4,
 "nbformat_minor": 4
}
